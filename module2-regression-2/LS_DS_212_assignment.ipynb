{
 "cells": [
  {
   "cell_type": "markdown",
   "source": [
    "Lambda School Data Science\n",
    "\n",
    "*Unit 2, Sprint 1, Module 2*\n",
    "\n",
    "---"
   ],
   "metadata": {}
  },
  {
   "cell_type": "code",
   "execution_count": 15,
   "source": [
    "from sklearn.metrics import mean_absolute_error as mae\r\n",
    "from sklearn.model_selection import train_test_split\r\n",
    "%%capture\r\n",
    "import sys\r\n",
    "import matplotlib.pyplot as plt\r\n",
    "import numpy as np \r\n",
    "import pandas as pd\r\n",
    "\r\n",
    "# If you're on Colab:\r\n",
    "if 'google.colab' in sys.modules:\r\n",
    "    DATA_PATH = 'https://raw.githubusercontent.com/LambdaSchool/DS-Unit-2-Applied-Modeling/master/data/'\r\n",
    "\r\n",
    "# If you're working locally:\r\n",
    "else:\r\n",
    "    DATA_PATH = '../data/'\r\n"
   ],
   "outputs": [
    {
     "output_type": "stream",
     "name": "stderr",
     "text": [
      "UsageError: Line magic function `%%capture` not found.\n"
     ]
    }
   ],
   "metadata": {}
  },
  {
   "cell_type": "markdown",
   "source": [
    "# Module Project: Regression II\n",
    "\n",
    "In this project, you'll continue working with the New York City rent dataset you used in the last module project.\n",
    "\n",
    "## Directions\n",
    "\n",
    "The tasks for this project are as follows:\n",
    "\n",
    "- **Task 1:** Import `csv` file using `wrangle` function.\n",
    "- **Task 2:** Conduct exploratory data analysis (EDA), and modify `wrangle` function to engineer two new features.\n",
    "- **Task 3:** Split data into feature matrix `X` and target vector `y`.\n",
    "- **Task 4:** Split feature matrix `X` and target vector `y` into training and test sets.\n",
    "- **Task 5:** Establish the baseline mean absolute error for your dataset.\n",
    "- **Task 6:** Build and train a `Linearregression` model.\n",
    "- **Task 7:** Calculate the training and test mean absolute error for your model.\n",
    "- **Task 8:** Calculate the training and test $R^2$ score for your model.\n",
    "- **Stretch Goal:** Determine the three most important features for your linear regression model.\n",
    "\n",
    "**Note**\n",
    "\n",
    "You should limit yourself to the following libraries for this project:\n",
    "\n",
    "- `matplotlib`\n",
    "- `numpy`\n",
    "- `pandas`\n",
    "- `sklearn`"
   ],
   "metadata": {}
  },
  {
   "cell_type": "markdown",
   "source": [
    "# I. Wrangle Data"
   ],
   "metadata": {}
  },
  {
   "cell_type": "code",
   "execution_count": 16,
   "source": [
    "# method using functions\r\n",
    "#converts string values to ints\r\n",
    "def int_lvl_to_num(string):\r\n",
    "    if string == 'low':\r\n",
    "        return 1\r\n",
    "    elif string == 'medium':\r\n",
    "        return 2\r\n",
    "    elif string == 'high':\r\n",
    "        return 3\r\n",
    "    # return 0 in the event that string is null.\r\n",
    "    return 0\r\n",
    "\r\n",
    "#total amenity values up into a column\r\n",
    "def amenities(df):\r\n",
    "    list = ['elevator', 'doorman', 'dishwasher', 'no_fee', 'laundry_in_building', 'fitness_center',\r\n",
    "            'laundry_in_unit', 'roof_deck', 'outdoor_space',\r\n",
    "            'dining_room', 'high_speed_internet', 'balcony', 'swimming_pool',\r\n",
    "            'terrace', 'exclusive', 'loft', 'garden_patio',\r\n",
    "            'common_outdoor_space']\r\n",
    "\r\n",
    "    amenities = df[list[0]]\r\n",
    "    for col in list[1:]:\r\n",
    "        amenities = amenities + df[col]\r\n",
    "    return amenities\r\n",
    "\r\n",
    "\r\n",
    "def wrangle(filepath):\r\n",
    "    df = pd.read_csv(filepath, index_col='created', parse_dates=['created'])\r\n",
    "    \r\n",
    "    # Remove the most extreme 1% prices,\r\n",
    "    # the most extreme .1% latitudes, &\r\n",
    "    # the most extreme .1% longitudes\r\n",
    "    df = df[(df['price'] >= np.percentile(df['price'], 0.5)) & \r\n",
    "            (df['price'] <= np.percentile(df['price'], 99.5)) & \r\n",
    "            (df['latitude'] >= np.percentile(df['latitude'], 0.05)) & \r\n",
    "            (df['latitude'] < np.percentile(df['latitude'], 99.95)) &\r\n",
    "            (df['longitude'] >= np.percentile(df['longitude'], 0.05)) & \r\n",
    "            (df['longitude'] <= np.percentile(df['longitude'], 99.95))]\r\n",
    "            \r\n",
    "    df['interest_level'] = df['interest_level'].apply(int_lvl_to_num)\r\n",
    "    df.dropna(inplace=True)\r\n",
    "    df['amenities'] = amenities(df)\r\n",
    "    return df\r\n",
    "\r\n",
    "filepath = DATA_PATH + 'apartments/renthop-nyc.csv'\r\n"
   ],
   "outputs": [
    {
     "output_type": "error",
     "ename": "NameError",
     "evalue": "name 'DATA_PATH' is not defined",
     "traceback": [
      "\u001b[1;31m---------------------------------------------------------------------------\u001b[0m",
      "\u001b[1;31mNameError\u001b[0m                                 Traceback (most recent call last)",
      "\u001b[1;32m~\\AppData\\Local\\Temp/ipykernel_17956/282328315.py\u001b[0m in \u001b[0;36m<module>\u001b[1;34m\u001b[0m\n\u001b[0;32m     43\u001b[0m     \u001b[1;32mreturn\u001b[0m \u001b[0mdf\u001b[0m\u001b[1;33m\u001b[0m\u001b[1;33m\u001b[0m\u001b[0m\n\u001b[0;32m     44\u001b[0m \u001b[1;33m\u001b[0m\u001b[0m\n\u001b[1;32m---> 45\u001b[1;33m \u001b[0mfilepath\u001b[0m \u001b[1;33m=\u001b[0m \u001b[0mDATA_PATH\u001b[0m \u001b[1;33m+\u001b[0m \u001b[1;34m'apartments/renthop-nyc.csv'\u001b[0m\u001b[1;33m\u001b[0m\u001b[1;33m\u001b[0m\u001b[0m\n\u001b[0m",
      "\u001b[1;31mNameError\u001b[0m: name 'DATA_PATH' is not defined"
     ]
    }
   ],
   "metadata": {}
  },
  {
   "cell_type": "markdown",
   "source": [
    "**Task 1:** Add the following functionality to the above `wrangle` function.\n",
    "\n",
    "- The `'created'` column will parsed as a `DateTime` object and set as the `index` of the DataFrame. \n",
    "- Rows with `NaN` values will be dropped.\n",
    "\n",
    "Then use your modified function to import the `renthop-nyc.csv` file into a DataFrame named `df`."
   ],
   "metadata": {}
  },
  {
   "cell_type": "code",
   "execution_count": null,
   "source": [
    "df = wrangle(filepath)\r\n",
    "# Conduct your exploratory data analysis here,\r\n",
    "# and then modify the function above.\r\n",
    "df.isna().sum().sum()\r\n",
    "\r\n",
    "df.head()\r\n",
    "\r\n",
    "print(df.index.min())\r\n",
    "print(df.index.max())\r\n"
   ],
   "outputs": [
    {
     "output_type": "stream",
     "name": "stdout",
     "text": [
      "2016-04-01 22:12:41\n",
      "2016-06-29 21:41:47\n"
     ]
    }
   ],
   "metadata": {}
  },
  {
   "cell_type": "markdown",
   "source": [
    "**Task 2:** Using your `pandas` and dataviz skills decide on two features that you want to engineer for your dataset. Next, modify your `wrangle` function to add those features. \n",
    "\n",
    "**Note:** You can learn more about feature engineering [here](https://en.wikipedia.org/wiki/Feature_engineering). Here are some ideas for new features:\n",
    "\n",
    "- Does the apartment have a description?\n",
    "- Length of description.\n",
    "- Total number of perks that apartment has.\n",
    "- Are cats _or_ dogs allowed?\n",
    "- Are cats _and_ dogs allowed?\n",
    "- Total number of rooms (beds + baths)."
   ],
   "metadata": {}
  },
  {
   "cell_type": "code",
   "execution_count": null,
   "source": [
    "df.head()\r\n",
    "\r\n",
    "plt.scatter(df['amenities'], df['price'])\r\n",
    "plt.show()\r\n",
    "plt.scatter(df['interest_level'], df['price'])\r\n"
   ],
   "outputs": [
    {
     "output_type": "display_data",
     "data": {
      "image/png": "[encoded data removed]",
      "text/plain": [
       "<Figure size 432x288 with 1 Axes>"
      ]
     },
     "metadata": {
      "needs_background": "light"
     }
    },
    {
     "output_type": "execute_result",
     "data": {
      "text/plain": [
       "<matplotlib.collections.PathCollection at 0x1f31ff43700>"
      ]
     },
     "metadata": {},
     "execution_count": 246
    },
    {
     "output_type": "display_data",
     "data": {
      "image/png": "[encoded data removed]",
      "text/plain": [
       "<Figure size 432x288 with 1 Axes>"
      ]
     },
     "metadata": {
      "needs_background": "light"
     }
    }
   ],
   "metadata": {}
  },
  {
   "cell_type": "markdown",
   "source": [
    "# II. Split Data\n",
    "\n",
    "**Task 3:** Split your DataFrame `df` into a feature matrix `X` and the target vector `y`. You want to predict `'price'`.\n",
    "\n",
    "**Note:** In contrast to the last module project, this time you should include _all_ the numerical features in your dataset."
   ],
   "metadata": {}
  },
  {
   "cell_type": "code",
   "execution_count": null,
   "source": [
    "X = df.select_dtypes(np.number)\r\n",
    "X = X.drop('price', axis=1)\r\n",
    "y = df['price']"
   ],
   "outputs": [],
   "metadata": {}
  },
  {
   "cell_type": "markdown",
   "source": [
    "**Task 4:** Split `X` and `y` into a training set (`X_train`, `y_train`) and a test set (`X_test`, `y_test`).\n",
    "\n",
    "- Your training set should include data from April and May 2016. \n",
    "- Your test set should include data from June 2016."
   ],
   "metadata": {}
  },
  {
   "cell_type": "code",
   "execution_count": null,
   "source": [
    "X_train, y_train, X_test, y_test = train_test_split(X, y)\r\n",
    "\r\n",
    "training = X.index < pd.to_datetime('5/2016')\r\n",
    "\r\n",
    "X_train, y_train, X_test, y_test = X[training], y[training], X[~training], y[~training]\r\n",
    "\r\n",
    "print(X_train)\r\n",
    "print(X_test)\r\n",
    "print(y_train)\r\n",
    "print(y_test)\r\n",
    "pd.DataFrame(training).value_counts()\r\n"
   ],
   "outputs": [
    {
     "output_type": "stream",
     "name": "stdout",
     "text": [
      "                     bathrooms  bedrooms  latitude  longitude  interest_level  \\\n",
      "created                                                                         \n",
      "2016-04-17 03:26:41        1.0         1   40.7388   -74.0018               3   \n",
      "2016-04-18 02:22:02        1.0         1   40.7539   -73.9677               1   \n",
      "2016-04-28 01:32:41        1.0         4   40.8241   -73.9493               1   \n",
      "2016-04-19 04:24:47        2.0         4   40.7429   -74.0028               2   \n",
      "2016-04-27 03:19:56        1.0         2   40.8012   -73.9660               1   \n",
      "...                        ...       ...       ...        ...             ...   \n",
      "2016-04-22 15:44:11        1.0         1   40.7296   -73.9869               2   \n",
      "2016-04-04 18:22:34        1.0         1   40.7102   -74.0163               1   \n",
      "2016-04-16 02:13:40        1.0         1   40.7601   -73.9900               1   \n",
      "2016-04-08 02:13:33        1.0         0   40.7066   -74.0101               1   \n",
      "2016-04-12 02:48:07        1.0         2   40.8699   -73.9172               1   \n",
      "\n",
      "                     elevator  cats_allowed  hardwood_floors  dogs_allowed  \\\n",
      "created                                                                      \n",
      "2016-04-17 03:26:41         0             0                1             0   \n",
      "2016-04-18 02:22:02         0             0                1             0   \n",
      "2016-04-28 01:32:41         0             0                0             0   \n",
      "2016-04-19 04:24:47         0             0                0             0   \n",
      "2016-04-27 03:19:56         0             1                0             1   \n",
      "...                       ...           ...              ...           ...   \n",
      "2016-04-22 15:44:11         1             1                0             0   \n",
      "2016-04-04 18:22:34         1             1                0             1   \n",
      "2016-04-16 02:13:40         1             1                0             1   \n",
      "2016-04-08 02:13:33         1             1                0             1   \n",
      "2016-04-12 02:48:07         0             0                1             0   \n",
      "\n",
      "                     doorman  ...  balcony  swimming_pool  new_construction  \\\n",
      "created                       ...                                             \n",
      "2016-04-17 03:26:41        0  ...        0              0                 0   \n",
      "2016-04-18 02:22:02        0  ...        0              0                 0   \n",
      "2016-04-28 01:32:41        0  ...        0              0                 0   \n",
      "2016-04-19 04:24:47        0  ...        0              0                 0   \n",
      "2016-04-27 03:19:56        0  ...        0              0                 0   \n",
      "...                      ...  ...      ...            ...               ...   \n",
      "2016-04-22 15:44:11        1  ...        0              0                 0   \n",
      "2016-04-04 18:22:34        1  ...        0              0                 0   \n",
      "2016-04-16 02:13:40        1  ...        0              0                 0   \n",
      "2016-04-08 02:13:33        1  ...        0              0                 0   \n",
      "2016-04-12 02:48:07        0  ...        0              0                 0   \n",
      "\n",
      "                     terrace  exclusive  loft  garden_patio  \\\n",
      "created                                                       \n",
      "2016-04-17 03:26:41        0          0     0             0   \n",
      "2016-04-18 02:22:02        0          0     0             0   \n",
      "2016-04-28 01:32:41        0          0     0             0   \n",
      "2016-04-19 04:24:47        0          0     0             0   \n",
      "2016-04-27 03:19:56        0          0     0             0   \n",
      "...                      ...        ...   ...           ...   \n",
      "2016-04-22 15:44:11        0          0     0             0   \n",
      "2016-04-04 18:22:34        0          1     0             0   \n",
      "2016-04-16 02:13:40        0          0     0             0   \n",
      "2016-04-08 02:13:33        0          0     0             0   \n",
      "2016-04-12 02:48:07        0          0     0             0   \n",
      "\n",
      "                     wheelchair_access  common_outdoor_space  amenities  \n",
      "created                                                                  \n",
      "2016-04-17 03:26:41                  0                     0          2  \n",
      "2016-04-18 02:22:02                  0                     0          1  \n",
      "2016-04-28 01:32:41                  0                     0          0  \n",
      "2016-04-19 04:24:47                  0                     0          0  \n",
      "2016-04-27 03:19:56                  0                     0          1  \n",
      "...                                ...                   ...        ...  \n",
      "2016-04-22 15:44:11                  0                     0          4  \n",
      "2016-04-04 18:22:34                  0                     1          7  \n",
      "2016-04-16 02:13:40                  0                     0          2  \n",
      "2016-04-08 02:13:33                  0                     0          2  \n",
      "2016-04-12 02:48:07                  0                     0          0  \n",
      "\n",
      "[15753 rows x 30 columns]\n",
      "                     bathrooms  bedrooms  latitude  longitude  interest_level  \\\n",
      "created                                                                         \n",
      "2016-06-24 07:54:24        1.5         3   40.7145   -73.9425               2   \n",
      "2016-06-12 12:19:27        1.0         2   40.7947   -73.9667               1   \n",
      "2016-06-03 03:21:22        1.0         1   40.8448   -73.9396               1   \n",
      "2016-06-01 03:11:01        1.0         1   40.7584   -73.9648               1   \n",
      "2016-06-07 04:39:56        2.0         4   40.7391   -73.9936               2   \n",
      "...                        ...       ...       ...        ...             ...   \n",
      "2016-06-16 04:20:46        1.0         2   40.8456   -73.9361               1   \n",
      "2016-06-21 06:25:35        1.0         3   40.7817   -73.9497               3   \n",
      "2016-06-02 13:24:18        1.0         1   40.7669   -73.9917               2   \n",
      "2016-06-06 01:22:44        1.0         2   40.7957   -73.9705               1   \n",
      "2016-06-02 05:41:05        1.0         2   40.7426   -73.9790               2   \n",
      "\n",
      "                     elevator  cats_allowed  hardwood_floors  dogs_allowed  \\\n",
      "created                                                                      \n",
      "2016-06-24 07:54:24         0             0                0             0   \n",
      "2016-06-12 12:19:27         1             1                0             1   \n",
      "2016-06-03 03:21:22         0             0                0             0   \n",
      "2016-06-01 03:11:01         1             0                1             0   \n",
      "2016-06-07 04:39:56         1             1                1             1   \n",
      "...                       ...           ...              ...           ...   \n",
      "2016-06-16 04:20:46         0             0                1             0   \n",
      "2016-06-21 06:25:35         1             0                1             0   \n",
      "2016-06-02 13:24:18         0             1                0             1   \n",
      "2016-06-06 01:22:44         0             1                0             1   \n",
      "2016-06-02 05:41:05         1             0                1             0   \n",
      "\n",
      "                     doorman  ...  balcony  swimming_pool  new_construction  \\\n",
      "created                       ...                                             \n",
      "2016-06-24 07:54:24        0  ...        0              0                 0   \n",
      "2016-06-12 12:19:27        1  ...        0              0                 0   \n",
      "2016-06-03 03:21:22        0  ...        0              0                 0   \n",
      "2016-06-01 03:11:01        0  ...        0              0                 0   \n",
      "2016-06-07 04:39:56        1  ...        1              0                 0   \n",
      "...                      ...  ...      ...            ...               ...   \n",
      "2016-06-16 04:20:46        0  ...        0              0                 0   \n",
      "2016-06-21 06:25:35        1  ...        0              1                 0   \n",
      "2016-06-02 13:24:18        0  ...        0              0                 0   \n",
      "2016-06-06 01:22:44        1  ...        0              0                 0   \n",
      "2016-06-02 05:41:05        0  ...        0              0                 0   \n",
      "\n",
      "                     terrace  exclusive  loft  garden_patio  \\\n",
      "created                                                       \n",
      "2016-06-24 07:54:24        0          0     0             0   \n",
      "2016-06-12 12:19:27        0          0     0             0   \n",
      "2016-06-03 03:21:22        0          0     0             0   \n",
      "2016-06-01 03:11:01        0          0     0             0   \n",
      "2016-06-07 04:39:56        1          0     0             0   \n",
      "...                      ...        ...   ...           ...   \n",
      "2016-06-16 04:20:46        0          0     0             0   \n",
      "2016-06-21 06:25:35        0          0     0             0   \n",
      "2016-06-02 13:24:18        0          0     0             0   \n",
      "2016-06-06 01:22:44        0          0     0             0   \n",
      "2016-06-02 05:41:05        0          0     0             0   \n",
      "\n",
      "                     wheelchair_access  common_outdoor_space  amenities  \n",
      "created                                                                  \n",
      "2016-06-24 07:54:24                  0                     0          0  \n",
      "2016-06-12 12:19:27                  0                     0          3  \n",
      "2016-06-03 03:21:22                  0                     0          0  \n",
      "2016-06-01 03:11:01                  0                     0          2  \n",
      "2016-06-07 04:39:56                  0                     0          8  \n",
      "...                                ...                   ...        ...  \n",
      "2016-06-16 04:20:46                  0                     0          1  \n",
      "2016-06-21 06:25:35                  0                     0          6  \n",
      "2016-06-02 13:24:18                  0                     0          0  \n",
      "2016-06-06 01:22:44                  0                     0          1  \n",
      "2016-06-02 05:41:05                  0                     0          4  \n",
      "\n",
      "[31507 rows x 30 columns]\n",
      "created\n",
      "2016-04-17 03:26:41    2850\n",
      "2016-04-18 02:22:02    3275\n",
      "2016-04-28 01:32:41    3350\n",
      "2016-04-19 04:24:47    7995\n",
      "2016-04-27 03:19:56    3600\n",
      "                       ... \n",
      "2016-04-22 15:44:11    4500\n",
      "2016-04-04 18:22:34    3950\n",
      "2016-04-16 02:13:40    2595\n",
      "2016-04-08 02:13:33    3350\n",
      "2016-04-12 02:48:07    2200\n",
      "Name: price, Length: 15753, dtype: int64\n",
      "created\n",
      "2016-06-24 07:54:24    3000\n",
      "2016-06-12 12:19:27    5465\n",
      "2016-06-03 03:21:22    1675\n",
      "2016-06-01 03:11:01    3050\n",
      "2016-06-07 04:39:56    7400\n",
      "                       ... \n",
      "2016-06-16 04:20:46    2295\n",
      "2016-06-21 06:25:35    3995\n",
      "2016-06-02 13:24:18    2727\n",
      "2016-06-06 01:22:44    4850\n",
      "2016-06-02 05:41:05    3200\n",
      "Name: price, Length: 31507, dtype: int64\n"
     ]
    },
    {
     "output_type": "execute_result",
     "data": {
      "text/plain": [
       "False    31507\n",
       "True     15753\n",
       "dtype: int64"
      ]
     },
     "metadata": {},
     "execution_count": 257
    }
   ],
   "metadata": {}
  },
  {
   "cell_type": "markdown",
   "source": [
    "# III. Establish Baseline"
   ],
   "metadata": {}
  },
  {
   "cell_type": "markdown",
   "source": [
    "**Task 5:** Since this is a **regression** problem, you need to calculate the baseline mean absolute error for your model. First, calculate the mean of `y_train`. Next, create a list `y_pred` that has the same length as `y_train` and where every item in the list is the mean. Finally, use `mean_absolute_error` to calculate your baseline."
   ],
   "metadata": {}
  },
  {
   "cell_type": "code",
   "execution_count": null,
   "source": [
    "y_pred = [y_train.mean()] * len(y_train)\r\n",
    "baseline_mae = mae(y_train, y_pred)\r\n",
    "print('Baseline MAE:', baseline_mae)\r\n"
   ],
   "outputs": [
    {
     "output_type": "stream",
     "name": "stdout",
     "text": [
      "Baseline MAE: 1174.63276413039\n"
     ]
    }
   ],
   "metadata": {}
  },
  {
   "cell_type": "markdown",
   "source": [
    "# IV. Build Model\n",
    "\n",
    "**Task 6:** Build and train a `LinearRegression` model named `model` using your feature matrix `X_train` and your target vector `y_train`."
   ],
   "metadata": {}
  },
  {
   "cell_type": "code",
   "execution_count": null,
   "source": [
    "# Step 1: Import predictor class\r\n",
    "from sklearn.linear_model import LinearRegression as lr\r\n",
    "# Step 2: Instantiate predictor\r\n",
    "model = lr()\r\n",
    "\r\n",
    "# Step 3: Fit predictor on the (training) data\r\n",
    "model.fit(X_train, y_train)\r\n",
    "model.score(X_train, y_train)\r\n"
   ],
   "outputs": [
    {
     "output_type": "execute_result",
     "data": {
      "text/plain": [
       "0.6114634429887307"
      ]
     },
     "metadata": {},
     "execution_count": 250
    }
   ],
   "metadata": {}
  },
  {
   "cell_type": "markdown",
   "source": [
    "# V. Check Metrics\n",
    "\n",
    "**Task 7:** Calculate the training and test mean absolute error for your model."
   ],
   "metadata": {}
  },
  {
   "cell_type": "code",
   "execution_count": null,
   "source": [
    "training_mae = mae(y_train, model.predict(X_train))\r\n",
    "test_mae = mae(y_test, model.predict(X_test))\r\n",
    "\r\n",
    "print('Training MAE:', training_mae)\r\n",
    "print('Test MAE:', test_mae)\r\n"
   ],
   "outputs": [
    {
     "output_type": "error",
     "ename": "NameError",
     "evalue": "name 'y_train' is not defined",
     "traceback": [
      "\u001b[1;31m---------------------------------------------------------------------------\u001b[0m",
      "\u001b[1;31mNameError\u001b[0m                                 Traceback (most recent call last)",
      "\u001b[1;32m~\\AppData\\Local\\Temp/ipykernel_17956/545182952.py\u001b[0m in \u001b[0;36m<module>\u001b[1;34m\u001b[0m\n\u001b[1;32m----> 1\u001b[1;33m \u001b[0mtraining_mae\u001b[0m \u001b[1;33m=\u001b[0m \u001b[0mmae\u001b[0m\u001b[1;33m(\u001b[0m\u001b[0my_train\u001b[0m\u001b[1;33m,\u001b[0m \u001b[0mmodel\u001b[0m\u001b[1;33m.\u001b[0m\u001b[0mpredict\u001b[0m\u001b[1;33m(\u001b[0m\u001b[0mX_train\u001b[0m\u001b[1;33m)\u001b[0m\u001b[1;33m)\u001b[0m\u001b[1;33m\u001b[0m\u001b[1;33m\u001b[0m\u001b[0m\n\u001b[0m\u001b[0;32m      2\u001b[0m test_mae = mae(y_test, model\n\u001b[0;32m      3\u001b[0m     .predict(X_test))\n\u001b[0;32m      4\u001b[0m \u001b[1;33m\u001b[0m\u001b[0m\n\u001b[0;32m      5\u001b[0m \u001b[0mprint\u001b[0m\u001b[1;33m(\u001b[0m\u001b[1;34m'Training MAE:'\u001b[0m\u001b[1;33m,\u001b[0m \u001b[0mtraining_mae\u001b[0m\u001b[1;33m)\u001b[0m\u001b[1;33m\u001b[0m\u001b[1;33m\u001b[0m\u001b[0m\n",
      "\u001b[1;31mNameError\u001b[0m: name 'y_train' is not defined"
     ]
    }
   ],
   "metadata": {}
  },
  {
   "cell_type": "markdown",
   "source": [
    "**Task 8:** Calculate the training and test $R^2$ score for your model."
   ],
   "metadata": {}
  },
  {
   "cell_type": "code",
   "execution_count": null,
   "source": [
    "training_r2 = np.sqrt(training_mae)\r\n",
    "test_r2 = np.sqrt(test_mae)\r\n",
    "\r\n",
    "print('Training MAE:', training_r2)\r\n",
    "print('Test MAE:', test_r2)\r\n"
   ],
   "outputs": [
    {
     "output_type": "stream",
     "name": "stdout",
     "text": [
      "Training MAE: 25.94893014386423\n",
      "Test MAE: 25.868375772893263\n"
     ]
    }
   ],
   "metadata": {}
  },
  {
   "cell_type": "markdown",
   "source": [
    "# VI. Communicate Results\n",
    "\n",
    "**Stretch Goal:** What are the three most influential coefficients in your linear model? You should consider the _absolute value_ of each coefficient, so that it doesn't matter if it's positive or negative."
   ],
   "metadata": {}
  },
  {
   "cell_type": "code",
   "execution_count": null,
   "source": [
    "pd.DataFrame(data=model.coef_, index=X.columns.to_list()).plot(kind='bar')\r\n",
    "\r\n",
    "#the Latitude and Longitude seem to be major predictors in the linear model followed by bathrooms and bedrooms."
   ],
   "outputs": [
    {
     "output_type": "execute_result",
     "data": {
      "text/plain": [
       "<AxesSubplot:>"
      ]
     },
     "metadata": {},
     "execution_count": 253
    },
    {
     "output_type": "display_data",
     "data": {
      "image/png": "[encoded data removed]",
      "text/plain": [
       "<Figure size 432x288 with 1 Axes>"
      ]
     },
     "metadata": {
      "needs_background": "light"
     }
    }
   ],
   "metadata": {}
  }
 ],
 "metadata": {
  "colab": {
   "collapsed_sections": [],
   "name": "LS_DS_212_solution.ipynb",
   "provenance": []
  },
  "kernelspec": {
   "name": "python3",
   "display_name": "Python 3.9.6 64-bit"
  },
  "language_info": {
   "codemirror_mode": {
    "name": "ipython",
    "version": 3
   },
   "file_extension": ".py",
   "mimetype": "text/x-python",
   "name": "python",
   "nbconvert_exporter": "python",
   "pygments_lexer": "ipython3",
   "version": "3.9.6"
  },
  "interpreter": {
   "hash": "4b7a67c094ca4859574ab7812cb20959fc8d8ba5f9f349a7149ef35bab6b6336"
  }
 },
 "nbformat": 4,
 "nbformat_minor": 1
}