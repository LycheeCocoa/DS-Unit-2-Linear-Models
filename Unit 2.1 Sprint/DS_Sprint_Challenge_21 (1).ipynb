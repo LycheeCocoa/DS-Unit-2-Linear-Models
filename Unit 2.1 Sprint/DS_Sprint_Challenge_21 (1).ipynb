{
 "cells": [
  {
   "cell_type": "markdown",
   "source": [
    "Lambda School Data Science\r\n",
    "\r\n",
    "*Unit 2, Sprint 1*\r\n",
    "\r\n",
    "---\r\n",
    "\r\n",
    "👇 **Do not change the code in this cell.** If you're working in Google Colab, you can run this cell to install `category_encoders`."
   ],
   "metadata": {
    "colab_type": "text",
    "deletable": false,
    "editable": false,
    "id": "VZf2akBaMjq8",
    "nbgrader": {
     "cell_type": "markdown",
     "checksum": "5da6bffe5472ee58690e340cb84ff1e7",
     "grade": false,
     "grade_id": "cell-39039e97c5ca497a",
     "locked": true,
     "schema_version": 3,
     "solution": false,
     "task": false
    }
   }
  },
  {
   "cell_type": "code",
   "execution_count": 1,
   "source": [
    "%%capture\r\n",
    "# If you're in Colab...\r\n",
    "import sys\r\n",
    "if 'google.colab' in sys.modules:\r\n",
    "    !pip install category_encoders==2.*"
   ],
   "outputs": [],
   "metadata": {
    "deletable": false,
    "editable": false,
    "nbgrader": {
     "cell_type": "code",
     "checksum": "53464cc768e269c070c42bd152223bbc",
     "grade": false,
     "grade_id": "cell-99b74e54a46dec38",
     "locked": true,
     "schema_version": 3,
     "solution": false,
     "task": false
    }
   }
  },
  {
   "cell_type": "markdown",
   "source": [
    " \r\n",
    "# Sprint Challenge: Predicting Home Prices in Iowa 🏠\r\n",
    "\r\n",
    "The goal of this assignment is to build a regression model that can predict the sale price of a house in Aimes, Iowa.\r\n",
    "\r\n",
    "# Directions \r\n",
    "\r\n",
    "This notebook contains 12 tasks, which cover the material we've learned in this sprint. Here's a summary:\r\n",
    "\r\n",
    "- **Task 1:** Import training data.\r\n",
    "- **Task 2 (`stretch goal`):** Create scatter plot.\r\n",
    "- **Task 3:** Split data into feature matrix and target vector.\r\n",
    "- **Task 4:** Split data into training and validation sets.\r\n",
    "- **Task 5:** Establish baseline mean absolute error.\r\n",
    "- **Task 6:** Build and train linear regression model.\r\n",
    "- **Task 7:** Build and train ridge regression model.\r\n",
    "- **Task 8:** Calculate mean absolute error for training and validation sets.\r\n",
    "- **Task 9:** Calculate $R^2$ for validation set.\r\n",
    "- **Task 10:** Make predictions based on test set.\r\n",
    "- **Task 11 (`stretch goal`):** Get below 18,000 for test set MAE. \r\n",
    "- **Task 12 (`stretch goal`):** Plot model coefficients.\r\n",
    "\r\n",
    "For each task you should do the following:\r\n",
    "\r\n",
    "- Read the task instructions.\r\n",
    "- Write your code in the cell below the task. Delete the `raise NotImplementedError` before your start.\r\n",
    "- Run the testing cell below the task. If you get an error, read the error message and re-evaluate your code.\r\n",
    "\r\n",
    "**You should limit your code to the following libraries:**\r\n",
    "\r\n",
    "- `category_encoders`\r\n",
    "- `numpy`\r\n",
    "- `matplotlib`\r\n",
    "- `pandas`\r\n",
    "- `sklearn` \r\n",
    "\r\n",
    "# Tasks\r\n",
    "\r\n",
    "## I. Wrangle Data\r\n",
    "\r\n",
    "**Task 1:** Since real estate prices fluctuate over time, it's important to index the houses in this dataset using the year in which they were sold. First, load the dataset into a DataFrame named `df` and find the column that states the year sold. Next, modify the code below so that `Yr_Sold` column is parsed as a datetime object and set as the index."
   ],
   "metadata": {
    "deletable": false,
    "editable": false,
    "nbgrader": {
     "cell_type": "markdown",
     "checksum": "8ffcbfcc12357213a3be26710877c891",
     "grade": false,
     "grade_id": "cell-6c3b25a3a9ca2f0a",
     "locked": true,
     "schema_version": 3,
     "solution": false,
     "task": false
    }
   }
  },
  {
   "cell_type": "code",
   "execution_count": 2,
   "source": [
    "'''T1: Import data into DataFrame `df`.'''\r\n",
    "import pandas as pd\r\n",
    "import numpy as np\r\n",
    "url_train = 'https://drive.google.com/uc?export=download&id=1tmYLQ1RwIgjI_d66PWnlXU-5D_VxtiQc'\r\n",
    "\r\n",
    "# parse dates to datetime and index yr_sold\r\n",
    "df = pd.read_csv(url_train, parse_dates=['Yr_Sold'], index_col='Yr_Sold')"
   ],
   "outputs": [],
   "metadata": {
    "colab": {},
    "colab_type": "code",
    "deletable": false,
    "id": "7ptoRG1lu7H4",
    "nbgrader": {
     "cell_type": "code",
     "checksum": "971bae389cac7fcc8b6b743b55faaa50",
     "grade": false,
     "grade_id": "cell-f40876cb08c183d1",
     "locked": false,
     "schema_version": 3,
     "solution": true,
     "task": false
    }
   }
  },
  {
   "cell_type": "code",
   "execution_count": 3,
   "source": [
    "df.head()\r\n"
   ],
   "outputs": [
    {
     "output_type": "execute_result",
     "data": {
      "text/html": [
       "<div>\n",
       "<style scoped>\n",
       "    .dataframe tbody tr th:only-of-type {\n",
       "        vertical-align: middle;\n",
       "    }\n",
       "\n",
       "    .dataframe tbody tr th {\n",
       "        vertical-align: top;\n",
       "    }\n",
       "\n",
       "    .dataframe thead th {\n",
       "        text-align: right;\n",
       "    }\n",
       "</style>\n",
       "<table border=\"1\" class=\"dataframe\">\n",
       "  <thead>\n",
       "    <tr style=\"text-align: right;\">\n",
       "      <th></th>\n",
       "      <th>1st_Flr_SF</th>\n",
       "      <th>Bedroom_AbvGr</th>\n",
       "      <th>Bldg_Type</th>\n",
       "      <th>Bsmt_Full_Bath</th>\n",
       "      <th>Bsmt_Half_Bath</th>\n",
       "      <th>Central_Air</th>\n",
       "      <th>Condition_1</th>\n",
       "      <th>Condition_2</th>\n",
       "      <th>Electrical</th>\n",
       "      <th>Exter_Cond</th>\n",
       "      <th>...</th>\n",
       "      <th>Roof_Matl</th>\n",
       "      <th>Roof_Style</th>\n",
       "      <th>SalePrice</th>\n",
       "      <th>Sale_Condition</th>\n",
       "      <th>Sale_Type</th>\n",
       "      <th>Street</th>\n",
       "      <th>TotRms_AbvGrd</th>\n",
       "      <th>Utilities</th>\n",
       "      <th>Year_Built</th>\n",
       "      <th>Year_Remod/Add</th>\n",
       "    </tr>\n",
       "    <tr>\n",
       "      <th>Yr_Sold</th>\n",
       "      <th></th>\n",
       "      <th></th>\n",
       "      <th></th>\n",
       "      <th></th>\n",
       "      <th></th>\n",
       "      <th></th>\n",
       "      <th></th>\n",
       "      <th></th>\n",
       "      <th></th>\n",
       "      <th></th>\n",
       "      <th></th>\n",
       "      <th></th>\n",
       "      <th></th>\n",
       "      <th></th>\n",
       "      <th></th>\n",
       "      <th></th>\n",
       "      <th></th>\n",
       "      <th></th>\n",
       "      <th></th>\n",
       "      <th></th>\n",
       "      <th></th>\n",
       "    </tr>\n",
       "  </thead>\n",
       "  <tbody>\n",
       "    <tr>\n",
       "      <th>2009-01-01</th>\n",
       "      <td>882</td>\n",
       "      <td>2</td>\n",
       "      <td>1Fam</td>\n",
       "      <td>0.0</td>\n",
       "      <td>0.0</td>\n",
       "      <td>Y</td>\n",
       "      <td>Norm</td>\n",
       "      <td>Norm</td>\n",
       "      <td>SBrkr</td>\n",
       "      <td>TA</td>\n",
       "      <td>...</td>\n",
       "      <td>CompShg</td>\n",
       "      <td>Gable</td>\n",
       "      <td>124500</td>\n",
       "      <td>Normal</td>\n",
       "      <td>WD</td>\n",
       "      <td>Pave</td>\n",
       "      <td>5</td>\n",
       "      <td>AllPub</td>\n",
       "      <td>1956</td>\n",
       "      <td>1956</td>\n",
       "    </tr>\n",
       "    <tr>\n",
       "      <th>2009-01-01</th>\n",
       "      <td>1434</td>\n",
       "      <td>4</td>\n",
       "      <td>1Fam</td>\n",
       "      <td>1.0</td>\n",
       "      <td>0.0</td>\n",
       "      <td>Y</td>\n",
       "      <td>Norm</td>\n",
       "      <td>Norm</td>\n",
       "      <td>SBrkr</td>\n",
       "      <td>TA</td>\n",
       "      <td>...</td>\n",
       "      <td>CompShg</td>\n",
       "      <td>Hip</td>\n",
       "      <td>157000</td>\n",
       "      <td>Normal</td>\n",
       "      <td>WD</td>\n",
       "      <td>Pave</td>\n",
       "      <td>7</td>\n",
       "      <td>AllPub</td>\n",
       "      <td>1974</td>\n",
       "      <td>1974</td>\n",
       "    </tr>\n",
       "    <tr>\n",
       "      <th>2009-01-01</th>\n",
       "      <td>2000</td>\n",
       "      <td>4</td>\n",
       "      <td>1Fam</td>\n",
       "      <td>1.0</td>\n",
       "      <td>0.0</td>\n",
       "      <td>Y</td>\n",
       "      <td>Norm</td>\n",
       "      <td>Norm</td>\n",
       "      <td>SBrkr</td>\n",
       "      <td>TA</td>\n",
       "      <td>...</td>\n",
       "      <td>CompShg</td>\n",
       "      <td>Gable</td>\n",
       "      <td>345000</td>\n",
       "      <td>Normal</td>\n",
       "      <td>WD</td>\n",
       "      <td>Pave</td>\n",
       "      <td>9</td>\n",
       "      <td>AllPub</td>\n",
       "      <td>1972</td>\n",
       "      <td>1995</td>\n",
       "    </tr>\n",
       "    <tr>\n",
       "      <th>2009-01-01</th>\n",
       "      <td>945</td>\n",
       "      <td>3</td>\n",
       "      <td>1Fam</td>\n",
       "      <td>0.0</td>\n",
       "      <td>0.0</td>\n",
       "      <td>Y</td>\n",
       "      <td>Norm</td>\n",
       "      <td>Norm</td>\n",
       "      <td>SBrkr</td>\n",
       "      <td>TA</td>\n",
       "      <td>...</td>\n",
       "      <td>CompShg</td>\n",
       "      <td>Gable</td>\n",
       "      <td>189500</td>\n",
       "      <td>Normal</td>\n",
       "      <td>WD</td>\n",
       "      <td>Pave</td>\n",
       "      <td>7</td>\n",
       "      <td>AllPub</td>\n",
       "      <td>1997</td>\n",
       "      <td>1997</td>\n",
       "    </tr>\n",
       "    <tr>\n",
       "      <th>2009-01-01</th>\n",
       "      <td>1008</td>\n",
       "      <td>4</td>\n",
       "      <td>1Fam</td>\n",
       "      <td>0.0</td>\n",
       "      <td>0.0</td>\n",
       "      <td>Y</td>\n",
       "      <td>Norm</td>\n",
       "      <td>Norm</td>\n",
       "      <td>SBrkr</td>\n",
       "      <td>TA</td>\n",
       "      <td>...</td>\n",
       "      <td>CompShg</td>\n",
       "      <td>Gable</td>\n",
       "      <td>270000</td>\n",
       "      <td>Normal</td>\n",
       "      <td>WD</td>\n",
       "      <td>Pave</td>\n",
       "      <td>9</td>\n",
       "      <td>AllPub</td>\n",
       "      <td>2003</td>\n",
       "      <td>2003</td>\n",
       "    </tr>\n",
       "  </tbody>\n",
       "</table>\n",
       "<p>5 rows × 46 columns</p>\n",
       "</div>"
      ],
      "text/plain": [
       "            1st_Flr_SF  Bedroom_AbvGr Bldg_Type  Bsmt_Full_Bath  \\\n",
       "Yr_Sold                                                           \n",
       "2009-01-01         882              2      1Fam             0.0   \n",
       "2009-01-01        1434              4      1Fam             1.0   \n",
       "2009-01-01        2000              4      1Fam             1.0   \n",
       "2009-01-01         945              3      1Fam             0.0   \n",
       "2009-01-01        1008              4      1Fam             0.0   \n",
       "\n",
       "            Bsmt_Half_Bath Central_Air Condition_1 Condition_2 Electrical  \\\n",
       "Yr_Sold                                                                     \n",
       "2009-01-01             0.0           Y        Norm        Norm      SBrkr   \n",
       "2009-01-01             0.0           Y        Norm        Norm      SBrkr   \n",
       "2009-01-01             0.0           Y        Norm        Norm      SBrkr   \n",
       "2009-01-01             0.0           Y        Norm        Norm      SBrkr   \n",
       "2009-01-01             0.0           Y        Norm        Norm      SBrkr   \n",
       "\n",
       "           Exter_Cond  ... Roof_Matl Roof_Style SalePrice Sale_Condition  \\\n",
       "Yr_Sold                ...                                                 \n",
       "2009-01-01         TA  ...   CompShg      Gable    124500         Normal   \n",
       "2009-01-01         TA  ...   CompShg        Hip    157000         Normal   \n",
       "2009-01-01         TA  ...   CompShg      Gable    345000         Normal   \n",
       "2009-01-01         TA  ...   CompShg      Gable    189500         Normal   \n",
       "2009-01-01         TA  ...   CompShg      Gable    270000         Normal   \n",
       "\n",
       "            Sale_Type Street  TotRms_AbvGrd  Utilities Year_Built  \\\n",
       "Yr_Sold                                                             \n",
       "2009-01-01        WD    Pave              5     AllPub       1956   \n",
       "2009-01-01        WD    Pave              7     AllPub       1974   \n",
       "2009-01-01        WD    Pave              9     AllPub       1972   \n",
       "2009-01-01        WD    Pave              7     AllPub       1997   \n",
       "2009-01-01        WD    Pave              9     AllPub       2003   \n",
       "\n",
       "           Year_Remod/Add  \n",
       "Yr_Sold                    \n",
       "2009-01-01           1956  \n",
       "2009-01-01           1974  \n",
       "2009-01-01           1995  \n",
       "2009-01-01           1997  \n",
       "2009-01-01           2003  \n",
       "\n",
       "[5 rows x 46 columns]"
      ]
     },
     "metadata": {},
     "execution_count": 3
    }
   ],
   "metadata": {}
  },
  {
   "cell_type": "markdown",
   "source": [
    "**Task 1 Testing**"
   ],
   "metadata": {
    "deletable": false,
    "editable": false,
    "nbgrader": {
     "cell_type": "markdown",
     "checksum": "57df30990e0ac2245815c1522618652d",
     "grade": false,
     "grade_id": "cell-7681af23bef769bb",
     "locked": true,
     "schema_version": 3,
     "solution": false,
     "task": false
    }
   }
  },
  {
   "cell_type": "code",
   "execution_count": 4,
   "source": [
    "'''T1 Testing.'''\r\n",
    "assert isinstance(df, pd.DataFrame), '`df` is not a DataFrame. Did you import the data?'\r\n",
    "assert len(df) == 2564, 'DataFrame `df` has the wrong number of rows.'\r\n",
    "assert isinstance(df.index, pd.DatetimeIndex), '`df` does not have a datetime index.'"
   ],
   "outputs": [],
   "metadata": {
    "deletable": false,
    "editable": false,
    "nbgrader": {
     "cell_type": "code",
     "checksum": "e374e5061d1a751df80d90f197d2b064",
     "grade": true,
     "grade_id": "cell-25880b9c025295c5",
     "locked": true,
     "points": 1,
     "schema_version": 3,
     "solution": false,
     "task": false
    }
   }
  },
  {
   "cell_type": "markdown",
   "source": [
    "**Task 2 (`stretch goal`):** Create a scatter plot that shows `'SalePrice'` as a function of `'Gr_Liv_Area'`. Be sure to label the axes of your plot."
   ],
   "metadata": {
    "deletable": false,
    "editable": false,
    "nbgrader": {
     "cell_type": "markdown",
     "checksum": "0238173d96fa9190e6a2ee242499126a",
     "grade": false,
     "grade_id": "cell-81a7c3a23718bfd1",
     "locked": true,
     "schema_version": 3,
     "solution": false,
     "task": false
    }
   }
  },
  {
   "cell_type": "code",
   "execution_count": 5,
   "source": [
    "import matplotlib.pyplot as plt\r\n",
    "plt.scatter(x=df['Gr_Liv_Area'], y=df['SalePrice'])\r\n",
    "plt.xlabel('Gr_Liv_Area')\r\n",
    "plt.ylabel('SalePrice')\r\n",
    "plt.title('Sale price over Gr_Liv_Area')"
   ],
   "outputs": [
    {
     "output_type": "execute_result",
     "data": {
      "text/plain": [
       "Text(0.5, 1.0, 'Sale price over Gr_Liv_Area')"
      ]
     },
     "metadata": {},
     "execution_count": 5
    },
    {
     "output_type": "display_data",
     "data": {
      "image/png": "[encoded data removed]",
      "text/plain": [
       "<Figure size 432x288 with 1 Axes>"
      ]
     },
     "metadata": {
      "needs_background": "light"
     }
    }
   ],
   "metadata": {
    "deletable": false,
    "nbgrader": {
     "cell_type": "code",
     "checksum": "894e735ac4bb5911d536ee8852c2111f",
     "grade": false,
     "grade_id": "cell-8ee63eed57f965ea",
     "locked": false,
     "schema_version": 3,
     "solution": true,
     "task": false
    }
   }
  },
  {
   "cell_type": "markdown",
   "source": [
    "## II. Split Data\n",
    "\n",
    "**Task 3:** Since you're building a model to predict the price at which a house will be sold, your target is the `'SalePrice'` column. Split the DataFrame `df` into the target vector `y` and the feature matrix `X`. "
   ],
   "metadata": {
    "deletable": false,
    "editable": false,
    "nbgrader": {
     "cell_type": "markdown",
     "checksum": "8c8dd11e8a0388b018d59e6aca553ab6",
     "grade": false,
     "grade_id": "cell-17226b293bcb9e54",
     "locked": true,
     "schema_version": 3,
     "solution": false,
     "task": false
    }
   }
  },
  {
   "cell_type": "code",
   "execution_count": 6,
   "source": [
    "target = 'SalePrice'\r\n",
    "X = df.drop(columns='SalePrice')\r\n",
    "y = df[target]"
   ],
   "outputs": [],
   "metadata": {
    "deletable": false,
    "nbgrader": {
     "cell_type": "code",
     "checksum": "9a2ebca053c8701207fd5db749e36d0a",
     "grade": false,
     "grade_id": "cell-4207f17d2e629cbd",
     "locked": false,
     "schema_version": 3,
     "solution": true,
     "task": false
    }
   }
  },
  {
   "cell_type": "code",
   "execution_count": 7,
   "source": [
    "X"
   ],
   "outputs": [
    {
     "output_type": "execute_result",
     "data": {
      "text/html": [
       "<div>\n",
       "<style scoped>\n",
       "    .dataframe tbody tr th:only-of-type {\n",
       "        vertical-align: middle;\n",
       "    }\n",
       "\n",
       "    .dataframe tbody tr th {\n",
       "        vertical-align: top;\n",
       "    }\n",
       "\n",
       "    .dataframe thead th {\n",
       "        text-align: right;\n",
       "    }\n",
       "</style>\n",
       "<table border=\"1\" class=\"dataframe\">\n",
       "  <thead>\n",
       "    <tr style=\"text-align: right;\">\n",
       "      <th></th>\n",
       "      <th>1st_Flr_SF</th>\n",
       "      <th>Bedroom_AbvGr</th>\n",
       "      <th>Bldg_Type</th>\n",
       "      <th>Bsmt_Full_Bath</th>\n",
       "      <th>Bsmt_Half_Bath</th>\n",
       "      <th>Central_Air</th>\n",
       "      <th>Condition_1</th>\n",
       "      <th>Condition_2</th>\n",
       "      <th>Electrical</th>\n",
       "      <th>Exter_Cond</th>\n",
       "      <th>...</th>\n",
       "      <th>Paved_Drive</th>\n",
       "      <th>Roof_Matl</th>\n",
       "      <th>Roof_Style</th>\n",
       "      <th>Sale_Condition</th>\n",
       "      <th>Sale_Type</th>\n",
       "      <th>Street</th>\n",
       "      <th>TotRms_AbvGrd</th>\n",
       "      <th>Utilities</th>\n",
       "      <th>Year_Built</th>\n",
       "      <th>Year_Remod/Add</th>\n",
       "    </tr>\n",
       "    <tr>\n",
       "      <th>Yr_Sold</th>\n",
       "      <th></th>\n",
       "      <th></th>\n",
       "      <th></th>\n",
       "      <th></th>\n",
       "      <th></th>\n",
       "      <th></th>\n",
       "      <th></th>\n",
       "      <th></th>\n",
       "      <th></th>\n",
       "      <th></th>\n",
       "      <th></th>\n",
       "      <th></th>\n",
       "      <th></th>\n",
       "      <th></th>\n",
       "      <th></th>\n",
       "      <th></th>\n",
       "      <th></th>\n",
       "      <th></th>\n",
       "      <th></th>\n",
       "      <th></th>\n",
       "      <th></th>\n",
       "    </tr>\n",
       "  </thead>\n",
       "  <tbody>\n",
       "    <tr>\n",
       "      <th>2009-01-01</th>\n",
       "      <td>882</td>\n",
       "      <td>2</td>\n",
       "      <td>1Fam</td>\n",
       "      <td>0.0</td>\n",
       "      <td>0.0</td>\n",
       "      <td>Y</td>\n",
       "      <td>Norm</td>\n",
       "      <td>Norm</td>\n",
       "      <td>SBrkr</td>\n",
       "      <td>TA</td>\n",
       "      <td>...</td>\n",
       "      <td>Y</td>\n",
       "      <td>CompShg</td>\n",
       "      <td>Gable</td>\n",
       "      <td>Normal</td>\n",
       "      <td>WD</td>\n",
       "      <td>Pave</td>\n",
       "      <td>5</td>\n",
       "      <td>AllPub</td>\n",
       "      <td>1956</td>\n",
       "      <td>1956</td>\n",
       "    </tr>\n",
       "    <tr>\n",
       "      <th>2009-01-01</th>\n",
       "      <td>1434</td>\n",
       "      <td>4</td>\n",
       "      <td>1Fam</td>\n",
       "      <td>1.0</td>\n",
       "      <td>0.0</td>\n",
       "      <td>Y</td>\n",
       "      <td>Norm</td>\n",
       "      <td>Norm</td>\n",
       "      <td>SBrkr</td>\n",
       "      <td>TA</td>\n",
       "      <td>...</td>\n",
       "      <td>Y</td>\n",
       "      <td>CompShg</td>\n",
       "      <td>Hip</td>\n",
       "      <td>Normal</td>\n",
       "      <td>WD</td>\n",
       "      <td>Pave</td>\n",
       "      <td>7</td>\n",
       "      <td>AllPub</td>\n",
       "      <td>1974</td>\n",
       "      <td>1974</td>\n",
       "    </tr>\n",
       "    <tr>\n",
       "      <th>2009-01-01</th>\n",
       "      <td>2000</td>\n",
       "      <td>4</td>\n",
       "      <td>1Fam</td>\n",
       "      <td>1.0</td>\n",
       "      <td>0.0</td>\n",
       "      <td>Y</td>\n",
       "      <td>Norm</td>\n",
       "      <td>Norm</td>\n",
       "      <td>SBrkr</td>\n",
       "      <td>TA</td>\n",
       "      <td>...</td>\n",
       "      <td>Y</td>\n",
       "      <td>CompShg</td>\n",
       "      <td>Gable</td>\n",
       "      <td>Normal</td>\n",
       "      <td>WD</td>\n",
       "      <td>Pave</td>\n",
       "      <td>9</td>\n",
       "      <td>AllPub</td>\n",
       "      <td>1972</td>\n",
       "      <td>1995</td>\n",
       "    </tr>\n",
       "    <tr>\n",
       "      <th>2009-01-01</th>\n",
       "      <td>945</td>\n",
       "      <td>3</td>\n",
       "      <td>1Fam</td>\n",
       "      <td>0.0</td>\n",
       "      <td>0.0</td>\n",
       "      <td>Y</td>\n",
       "      <td>Norm</td>\n",
       "      <td>Norm</td>\n",
       "      <td>SBrkr</td>\n",
       "      <td>TA</td>\n",
       "      <td>...</td>\n",
       "      <td>Y</td>\n",
       "      <td>CompShg</td>\n",
       "      <td>Gable</td>\n",
       "      <td>Normal</td>\n",
       "      <td>WD</td>\n",
       "      <td>Pave</td>\n",
       "      <td>7</td>\n",
       "      <td>AllPub</td>\n",
       "      <td>1997</td>\n",
       "      <td>1997</td>\n",
       "    </tr>\n",
       "    <tr>\n",
       "      <th>2009-01-01</th>\n",
       "      <td>1008</td>\n",
       "      <td>4</td>\n",
       "      <td>1Fam</td>\n",
       "      <td>0.0</td>\n",
       "      <td>0.0</td>\n",
       "      <td>Y</td>\n",
       "      <td>Norm</td>\n",
       "      <td>Norm</td>\n",
       "      <td>SBrkr</td>\n",
       "      <td>TA</td>\n",
       "      <td>...</td>\n",
       "      <td>Y</td>\n",
       "      <td>CompShg</td>\n",
       "      <td>Gable</td>\n",
       "      <td>Normal</td>\n",
       "      <td>WD</td>\n",
       "      <td>Pave</td>\n",
       "      <td>9</td>\n",
       "      <td>AllPub</td>\n",
       "      <td>2003</td>\n",
       "      <td>2003</td>\n",
       "    </tr>\n",
       "    <tr>\n",
       "      <th>...</th>\n",
       "      <td>...</td>\n",
       "      <td>...</td>\n",
       "      <td>...</td>\n",
       "      <td>...</td>\n",
       "      <td>...</td>\n",
       "      <td>...</td>\n",
       "      <td>...</td>\n",
       "      <td>...</td>\n",
       "      <td>...</td>\n",
       "      <td>...</td>\n",
       "      <td>...</td>\n",
       "      <td>...</td>\n",
       "      <td>...</td>\n",
       "      <td>...</td>\n",
       "      <td>...</td>\n",
       "      <td>...</td>\n",
       "      <td>...</td>\n",
       "      <td>...</td>\n",
       "      <td>...</td>\n",
       "      <td>...</td>\n",
       "      <td>...</td>\n",
       "    </tr>\n",
       "    <tr>\n",
       "      <th>2006-01-01</th>\n",
       "      <td>1003</td>\n",
       "      <td>3</td>\n",
       "      <td>1Fam</td>\n",
       "      <td>1.0</td>\n",
       "      <td>0.0</td>\n",
       "      <td>Y</td>\n",
       "      <td>Norm</td>\n",
       "      <td>Norm</td>\n",
       "      <td>SBrkr</td>\n",
       "      <td>TA</td>\n",
       "      <td>...</td>\n",
       "      <td>Y</td>\n",
       "      <td>CompShg</td>\n",
       "      <td>Gable</td>\n",
       "      <td>Normal</td>\n",
       "      <td>WD</td>\n",
       "      <td>Pave</td>\n",
       "      <td>6</td>\n",
       "      <td>AllPub</td>\n",
       "      <td>1984</td>\n",
       "      <td>1984</td>\n",
       "    </tr>\n",
       "    <tr>\n",
       "      <th>2006-01-01</th>\n",
       "      <td>902</td>\n",
       "      <td>2</td>\n",
       "      <td>1Fam</td>\n",
       "      <td>1.0</td>\n",
       "      <td>0.0</td>\n",
       "      <td>Y</td>\n",
       "      <td>Norm</td>\n",
       "      <td>Norm</td>\n",
       "      <td>SBrkr</td>\n",
       "      <td>TA</td>\n",
       "      <td>...</td>\n",
       "      <td>Y</td>\n",
       "      <td>CompShg</td>\n",
       "      <td>Gable</td>\n",
       "      <td>Normal</td>\n",
       "      <td>WD</td>\n",
       "      <td>Pave</td>\n",
       "      <td>5</td>\n",
       "      <td>AllPub</td>\n",
       "      <td>1983</td>\n",
       "      <td>1983</td>\n",
       "    </tr>\n",
       "    <tr>\n",
       "      <th>2006-01-01</th>\n",
       "      <td>970</td>\n",
       "      <td>3</td>\n",
       "      <td>1Fam</td>\n",
       "      <td>0.0</td>\n",
       "      <td>1.0</td>\n",
       "      <td>Y</td>\n",
       "      <td>Norm</td>\n",
       "      <td>Norm</td>\n",
       "      <td>SBrkr</td>\n",
       "      <td>TA</td>\n",
       "      <td>...</td>\n",
       "      <td>Y</td>\n",
       "      <td>CompShg</td>\n",
       "      <td>Gable</td>\n",
       "      <td>Normal</td>\n",
       "      <td>WD</td>\n",
       "      <td>Pave</td>\n",
       "      <td>6</td>\n",
       "      <td>AllPub</td>\n",
       "      <td>1992</td>\n",
       "      <td>1992</td>\n",
       "    </tr>\n",
       "    <tr>\n",
       "      <th>2006-01-01</th>\n",
       "      <td>1389</td>\n",
       "      <td>2</td>\n",
       "      <td>1Fam</td>\n",
       "      <td>1.0</td>\n",
       "      <td>0.0</td>\n",
       "      <td>Y</td>\n",
       "      <td>Norm</td>\n",
       "      <td>Norm</td>\n",
       "      <td>SBrkr</td>\n",
       "      <td>TA</td>\n",
       "      <td>...</td>\n",
       "      <td>Y</td>\n",
       "      <td>CompShg</td>\n",
       "      <td>Gable</td>\n",
       "      <td>Normal</td>\n",
       "      <td>WD</td>\n",
       "      <td>Pave</td>\n",
       "      <td>6</td>\n",
       "      <td>AllPub</td>\n",
       "      <td>1974</td>\n",
       "      <td>1975</td>\n",
       "    </tr>\n",
       "    <tr>\n",
       "      <th>2006-01-01</th>\n",
       "      <td>996</td>\n",
       "      <td>3</td>\n",
       "      <td>1Fam</td>\n",
       "      <td>0.0</td>\n",
       "      <td>0.0</td>\n",
       "      <td>Y</td>\n",
       "      <td>Norm</td>\n",
       "      <td>Norm</td>\n",
       "      <td>SBrkr</td>\n",
       "      <td>TA</td>\n",
       "      <td>...</td>\n",
       "      <td>Y</td>\n",
       "      <td>CompShg</td>\n",
       "      <td>Gable</td>\n",
       "      <td>Normal</td>\n",
       "      <td>WD</td>\n",
       "      <td>Pave</td>\n",
       "      <td>9</td>\n",
       "      <td>AllPub</td>\n",
       "      <td>1993</td>\n",
       "      <td>1994</td>\n",
       "    </tr>\n",
       "  </tbody>\n",
       "</table>\n",
       "<p>2564 rows × 45 columns</p>\n",
       "</div>"
      ],
      "text/plain": [
       "            1st_Flr_SF  Bedroom_AbvGr Bldg_Type  Bsmt_Full_Bath  \\\n",
       "Yr_Sold                                                           \n",
       "2009-01-01         882              2      1Fam             0.0   \n",
       "2009-01-01        1434              4      1Fam             1.0   \n",
       "2009-01-01        2000              4      1Fam             1.0   \n",
       "2009-01-01         945              3      1Fam             0.0   \n",
       "2009-01-01        1008              4      1Fam             0.0   \n",
       "...                ...            ...       ...             ...   \n",
       "2006-01-01        1003              3      1Fam             1.0   \n",
       "2006-01-01         902              2      1Fam             1.0   \n",
       "2006-01-01         970              3      1Fam             0.0   \n",
       "2006-01-01        1389              2      1Fam             1.0   \n",
       "2006-01-01         996              3      1Fam             0.0   \n",
       "\n",
       "            Bsmt_Half_Bath Central_Air Condition_1 Condition_2 Electrical  \\\n",
       "Yr_Sold                                                                     \n",
       "2009-01-01             0.0           Y        Norm        Norm      SBrkr   \n",
       "2009-01-01             0.0           Y        Norm        Norm      SBrkr   \n",
       "2009-01-01             0.0           Y        Norm        Norm      SBrkr   \n",
       "2009-01-01             0.0           Y        Norm        Norm      SBrkr   \n",
       "2009-01-01             0.0           Y        Norm        Norm      SBrkr   \n",
       "...                    ...         ...         ...         ...        ...   \n",
       "2006-01-01             0.0           Y        Norm        Norm      SBrkr   \n",
       "2006-01-01             0.0           Y        Norm        Norm      SBrkr   \n",
       "2006-01-01             1.0           Y        Norm        Norm      SBrkr   \n",
       "2006-01-01             0.0           Y        Norm        Norm      SBrkr   \n",
       "2006-01-01             0.0           Y        Norm        Norm      SBrkr   \n",
       "\n",
       "           Exter_Cond  ... Paved_Drive Roof_Matl Roof_Style Sale_Condition  \\\n",
       "Yr_Sold                ...                                                   \n",
       "2009-01-01         TA  ...           Y   CompShg      Gable         Normal   \n",
       "2009-01-01         TA  ...           Y   CompShg        Hip         Normal   \n",
       "2009-01-01         TA  ...           Y   CompShg      Gable         Normal   \n",
       "2009-01-01         TA  ...           Y   CompShg      Gable         Normal   \n",
       "2009-01-01         TA  ...           Y   CompShg      Gable         Normal   \n",
       "...               ...  ...         ...       ...        ...            ...   \n",
       "2006-01-01         TA  ...           Y   CompShg      Gable         Normal   \n",
       "2006-01-01         TA  ...           Y   CompShg      Gable         Normal   \n",
       "2006-01-01         TA  ...           Y   CompShg      Gable         Normal   \n",
       "2006-01-01         TA  ...           Y   CompShg      Gable         Normal   \n",
       "2006-01-01         TA  ...           Y   CompShg      Gable         Normal   \n",
       "\n",
       "            Sale_Type Street  TotRms_AbvGrd  Utilities Year_Built  \\\n",
       "Yr_Sold                                                             \n",
       "2009-01-01        WD    Pave              5     AllPub       1956   \n",
       "2009-01-01        WD    Pave              7     AllPub       1974   \n",
       "2009-01-01        WD    Pave              9     AllPub       1972   \n",
       "2009-01-01        WD    Pave              7     AllPub       1997   \n",
       "2009-01-01        WD    Pave              9     AllPub       2003   \n",
       "...               ...    ...            ...        ...        ...   \n",
       "2006-01-01        WD    Pave              6     AllPub       1984   \n",
       "2006-01-01        WD    Pave              5     AllPub       1983   \n",
       "2006-01-01        WD    Pave              6     AllPub       1992   \n",
       "2006-01-01        WD    Pave              6     AllPub       1974   \n",
       "2006-01-01        WD    Pave              9     AllPub       1993   \n",
       "\n",
       "           Year_Remod/Add  \n",
       "Yr_Sold                    \n",
       "2009-01-01           1956  \n",
       "2009-01-01           1974  \n",
       "2009-01-01           1995  \n",
       "2009-01-01           1997  \n",
       "2009-01-01           2003  \n",
       "...                   ...  \n",
       "2006-01-01           1984  \n",
       "2006-01-01           1983  \n",
       "2006-01-01           1992  \n",
       "2006-01-01           1975  \n",
       "2006-01-01           1994  \n",
       "\n",
       "[2564 rows x 45 columns]"
      ]
     },
     "metadata": {},
     "execution_count": 7
    }
   ],
   "metadata": {}
  },
  {
   "cell_type": "code",
   "execution_count": 8,
   "source": [
    "y"
   ],
   "outputs": [
    {
     "output_type": "execute_result",
     "data": {
      "text/plain": [
       "Yr_Sold\n",
       "2009-01-01    124500\n",
       "2009-01-01    157000\n",
       "2009-01-01    345000\n",
       "2009-01-01    189500\n",
       "2009-01-01    270000\n",
       "               ...  \n",
       "2006-01-01    142500\n",
       "2006-01-01    131000\n",
       "2006-01-01    132000\n",
       "2006-01-01    170000\n",
       "2006-01-01    188000\n",
       "Name: SalePrice, Length: 2564, dtype: int64"
      ]
     },
     "metadata": {},
     "execution_count": 8
    }
   ],
   "metadata": {}
  },
  {
   "cell_type": "markdown",
   "source": [
    "**Task 3 Testing**"
   ],
   "metadata": {
    "deletable": false,
    "editable": false,
    "nbgrader": {
     "cell_type": "markdown",
     "checksum": "0eaf400e2a187b0a44d22c5f94573e8a",
     "grade": false,
     "grade_id": "cell-2f0e0292ea6ebc3b",
     "locked": true,
     "schema_version": 3,
     "solution": false,
     "task": false
    }
   }
  },
  {
   "cell_type": "code",
   "execution_count": 9,
   "source": [
    "'''T3 Tests'''\r\n",
    "assert y.shape == (2564,), '`y` either has the wrong number of rows, or is two-dimentional.'\r\n",
    "assert X.shape == (2564, 45), '`X` has the wrong number of columns or rows.'\r\n",
    "assert 'SalePrice' not in X.columns, 'Target is still part of feature matrix.' "
   ],
   "outputs": [],
   "metadata": {
    "deletable": false,
    "editable": false,
    "nbgrader": {
     "cell_type": "code",
     "checksum": "37e8cadf75dc3ed7257d278154912f99",
     "grade": true,
     "grade_id": "cell-7e83bdb6a35f2699",
     "locked": true,
     "points": 1,
     "schema_version": 3,
     "solution": false,
     "task": false
    }
   }
  },
  {
   "cell_type": "markdown",
   "source": [
    "**Task 4:** Split `X` and `y` into training, validation, and test sets. Since housing prices fluctuate over time, you should use the time-based cutoff method. \r\n",
    "\r\n",
    "- Training: Homes sold before 2009\r\n",
    "- Validation: Homes sold during 2009"
   ],
   "metadata": {
    "deletable": false,
    "editable": false,
    "nbgrader": {
     "cell_type": "markdown",
     "checksum": "6309faf4b0395b7305ae23a65cadd4ee",
     "grade": false,
     "grade_id": "cell-708c2f8aa9bebfa1",
     "locked": true,
     "schema_version": 3,
     "solution": false,
     "task": false
    }
   }
  },
  {
   "cell_type": "code",
   "execution_count": 10,
   "source": [
    "before = X.index.year < 2009\r\n",
    "\r\n",
    "X_train, y_train, X_val, y_val = X[before], y[before], X[~before], y[~before]\r\n",
    "# YOUR CODE HERE\r\n"
   ],
   "outputs": [],
   "metadata": {
    "deletable": false,
    "nbgrader": {
     "cell_type": "code",
     "checksum": "11d8d6d6ef1622e19b0e405523389c0e",
     "grade": false,
     "grade_id": "cell-2efa29975d55a10c",
     "locked": false,
     "schema_version": 3,
     "solution": true,
     "task": false
    }
   }
  },
  {
   "cell_type": "code",
   "execution_count": 11,
   "source": [
    "print(X_train.index.year.min())\r\n",
    "print(X_train.index.year.max())\r\n",
    "print(X_val.index.year.min())\r\n",
    "print(y_val.index.year.max())\r\n"
   ],
   "outputs": [
    {
     "output_type": "stream",
     "name": "stdout",
     "text": [
      "2006\n",
      "2008\n",
      "2009\n",
      "2009\n"
     ]
    }
   ],
   "metadata": {}
  },
  {
   "cell_type": "markdown",
   "source": [
    "**Task 4 Testing**"
   ],
   "metadata": {
    "deletable": false,
    "editable": false,
    "nbgrader": {
     "cell_type": "markdown",
     "checksum": "47db7906e0f22fc02ec2827ee582f60d",
     "grade": false,
     "grade_id": "cell-bef5af92ef24c478",
     "locked": true,
     "schema_version": 3,
     "solution": false,
     "task": false
    }
   }
  },
  {
   "cell_type": "code",
   "execution_count": 12,
   "source": [
    "'''T4 Tests'''\r\n",
    "assert len(X_train) == len(y_train) == 1920, 'Your training set has the wrong number of rows.'\r\n",
    "assert len(X_val) == len(y_val) == 644, 'Your validation set has the wrong number of rows.'"
   ],
   "outputs": [],
   "metadata": {
    "deletable": false,
    "editable": false,
    "nbgrader": {
     "cell_type": "code",
     "checksum": "df87bc0b203410d307eb9773fdbc113d",
     "grade": true,
     "grade_id": "cell-458101f90b6b100b",
     "locked": true,
     "points": 1,
     "schema_version": 3,
     "solution": false,
     "task": false
    }
   }
  },
  {
   "cell_type": "markdown",
   "source": [
    "## III. Set Baseline\r\n",
    "\r\n",
    "**Task 5:** Before you can create a model to predict sale price, you need to establish a baseline. First, calculate the mean housing price for your training set. Next, calculate the *mean absolute error* for a model that always predicts that mean. Be sure to assign the mean absolute error to a variable named `baseline_mae`."
   ],
   "metadata": {
    "deletable": false,
    "editable": false,
    "nbgrader": {
     "cell_type": "markdown",
     "checksum": "d6a8d57a5e0f00b03dcc7127d385fef3",
     "grade": false,
     "grade_id": "cell-63da195f83201124",
     "locked": true,
     "schema_version": 3,
     "solution": false,
     "task": false
    }
   }
  },
  {
   "cell_type": "code",
   "execution_count": 13,
   "source": [
    "'''T5: Calculate baseline mean absolute error.'''\r\n",
    "from sklearn.metrics import mean_absolute_error\r\n",
    "\r\n",
    "baseline_mae = mean_absolute_error(y_train, [y_train.mean()] * len(y_train))\r\n",
    "# YOUR CODE HERE\r\n",
    "print('Baseline MAE:', baseline_mae)"
   ],
   "outputs": [
    {
     "output_type": "stream",
     "name": "stdout",
     "text": [
      "Baseline MAE: 58502.9394639757\n"
     ]
    }
   ],
   "metadata": {
    "deletable": false,
    "nbgrader": {
     "cell_type": "code",
     "checksum": "6bd6e555eb003bc08b8ff2ef2f8bc087",
     "grade": false,
     "grade_id": "cell-62dc6e7707644a97",
     "locked": false,
     "schema_version": 3,
     "solution": true,
     "task": false
    }
   }
  },
  {
   "cell_type": "markdown",
   "source": [
    "**Task 5 Testing**"
   ],
   "metadata": {
    "deletable": false,
    "editable": false,
    "nbgrader": {
     "cell_type": "markdown",
     "checksum": "89a1eda38ecc3c38f2f7b5ec42a9be9f",
     "grade": false,
     "grade_id": "cell-c76f1e15a9f7093f",
     "locked": true,
     "schema_version": 3,
     "solution": false,
     "task": false
    }
   }
  },
  {
   "cell_type": "code",
   "execution_count": 14,
   "source": [
    "'''T5 Tests'''\r\n",
    "assert isinstance(baseline_mae, float), '`baseline_mae` is not a `float`. Have you assigned a value to this variable name?'"
   ],
   "outputs": [],
   "metadata": {
    "deletable": false,
    "editable": false,
    "nbgrader": {
     "cell_type": "code",
     "checksum": "cbb7bc74c0aa899f6bc9745f7947d37a",
     "grade": true,
     "grade_id": "cell-cfcf0f63baa004f9",
     "locked": true,
     "points": 1,
     "schema_version": 3,
     "solution": false,
     "task": false
    }
   }
  },
  {
   "cell_type": "markdown",
   "source": [
    "## IV. Build Models\r\n",
    "\r\n",
    "**Task 6:** Build and train a linear regression model named `model_lr` that predicts home sale price. Your model should have the following components:\r\n",
    "\r\n",
    "- A `OneHotEncoder` for categorical features.\r\n",
    "- A `StandardScaler` so that you can compare your model coefficients after training.\r\n",
    "- A `pipeline` that combines transformers and predictor.\r\n",
    "\r\n",
    "**Tip:** For your `OneHotEncoder`, `use_cat_names` should be set to `True`."
   ],
   "metadata": {
    "deletable": false,
    "editable": false,
    "nbgrader": {
     "cell_type": "markdown",
     "checksum": "07eabd28839601f0c7a2f98893681016",
     "grade": false,
     "grade_id": "cell-63b7627f91c1e767",
     "locked": true,
     "schema_version": 3,
     "solution": false,
     "task": false
    }
   }
  },
  {
   "cell_type": "code",
   "execution_count": 15,
   "source": [
    "'''T6: Build and train LinearRegression model.'''\r\n",
    "from sklearn.pipeline import make_pipeline\r\n",
    "from sklearn.linear_model import LinearRegression\r\n",
    "from category_encoders import OneHotEncoder\r\n",
    "from sklearn.preprocessing import StandardScaler\r\n",
    "\r\n",
    "# YOUR CODE HERE\r\n",
    "linear = LinearRegression()\r\n",
    "ohe = OneHotEncoder(use_cat_names=True)\r\n",
    "std_scaler = StandardScaler()\r\n",
    "\r\n",
    "model_lr = make_pipeline(ohe, std_scaler, linear)\r\n",
    "model_lr.fit(X_train, y_train);\r\n"
   ],
   "outputs": [
    {
     "output_type": "stream",
     "name": "stderr",
     "text": [
      "C:\\Users\\coco\\AppData\\Local\\Programs\\Python\\Python39\\lib\\site-packages\\category_encoders\\utils.py:21: FutureWarning: is_categorical is deprecated and will be removed in a future version.  Use is_categorical_dtype instead\n",
      "  elif pd.api.types.is_categorical(cols):\n"
     ]
    },
    {
     "output_type": "execute_result",
     "data": {
      "text/plain": [
       "Pipeline(steps=[('onehotencoder',\n",
       "                 OneHotEncoder(cols=['Bldg_Type', 'Central_Air', 'Condition_1',\n",
       "                                     'Condition_2', 'Electrical', 'Exter_Cond',\n",
       "                                     'Exter_Qual', 'Exterior_1st',\n",
       "                                     'Exterior_2nd', 'Foundation', 'Functional',\n",
       "                                     'Heating', 'Heating_QC', 'House_Style',\n",
       "                                     'Kitchen_Qual', 'Land_Contour',\n",
       "                                     'Land_Slope', 'Lot_Config', 'Lot_Shape',\n",
       "                                     'MS_Zoning', 'Mas_Vnr_Type',\n",
       "                                     'Neighborhood', 'Paved_Drive', 'Roof_Matl',\n",
       "                                     'Roof_Style', 'Sale_Condition',\n",
       "                                     'Sale_Type', 'Street', 'Utilities'],\n",
       "                               use_cat_names=True)),\n",
       "                ('standardscaler', StandardScaler()),\n",
       "                ('linearregression', LinearRegression())])"
      ]
     },
     "metadata": {},
     "execution_count": 15
    }
   ],
   "metadata": {
    "deletable": false,
    "nbgrader": {
     "cell_type": "code",
     "checksum": "3236c609a2729c303682be55af187cb2",
     "grade": false,
     "grade_id": "cell-b80a918d2acd5e24",
     "locked": false,
     "schema_version": 3,
     "solution": true,
     "task": false
    }
   }
  },
  {
   "cell_type": "markdown",
   "source": [
    "**Task 6 Testing**"
   ],
   "metadata": {
    "deletable": false,
    "editable": false,
    "nbgrader": {
     "cell_type": "markdown",
     "checksum": "338030033710797cd30babb94a6754df",
     "grade": false,
     "grade_id": "cell-b11e913f60dd1a4f",
     "locked": true,
     "schema_version": 3,
     "solution": false,
     "task": false
    }
   }
  },
  {
   "cell_type": "code",
   "execution_count": 16,
   "source": [
    "'''T6 Tests'''\r\n",
    "from sklearn.pipeline import Pipeline\r\n",
    "assert isinstance(model_lr, Pipeline), '`model_lr` is not a pipeline.'\r\n",
    "assert len(model_lr.named_steps) > 1, 'Your `model_lr` pipeline is missing components.'"
   ],
   "outputs": [],
   "metadata": {
    "deletable": false,
    "editable": false,
    "nbgrader": {
     "cell_type": "code",
     "checksum": "468f711478be292802bc195e53341b4e",
     "grade": true,
     "grade_id": "cell-066938e1bd64a34c",
     "locked": true,
     "points": 1,
     "schema_version": 3,
     "solution": false,
     "task": false
    }
   }
  },
  {
   "cell_type": "markdown",
   "source": [
    "**Task 7:** Build and train a ridge regression model named `model_r` that predicts home sales price. Your model should include the following components:\n",
    "\n",
    "- A `OneHotEncoder` for categorical features.\n",
    "- A `StandardScaler` so that you can compare your model coefficients after training.\n",
    "- A `pipeline` that combines transformers and predictor.\n",
    "\n",
    "**Tip:** If you combine a `StandardScaler` transformer with a `Ridge` predictor, you should set the `normalize` argument for the latter to `False`."
   ],
   "metadata": {
    "deletable": false,
    "editable": false,
    "nbgrader": {
     "cell_type": "markdown",
     "checksum": "7a6a411b3833aaf17296afc3f2c6f29c",
     "grade": false,
     "grade_id": "cell-6a4782a94cdea347",
     "locked": true,
     "schema_version": 3,
     "solution": false,
     "task": false
    }
   }
  },
  {
   "cell_type": "code",
   "execution_count": 17,
   "source": [
    "'''T7. Build and train Ridge model.'''\r\n",
    "from sklearn.linear_model import Ridge\r\n",
    "\r\n",
    "std_scaler_norm = StandardScaler()\r\n",
    "ridge = Ridge(normalize=False)\r\n",
    "model_r = make_pipeline(ohe, std_scaler_norm, ridge)\r\n",
    "model_r.fit(X_train, y_train);\r\n"
   ],
   "outputs": [
    {
     "output_type": "stream",
     "name": "stderr",
     "text": [
      "C:\\Users\\coco\\AppData\\Local\\Programs\\Python\\Python39\\lib\\site-packages\\category_encoders\\utils.py:21: FutureWarning: is_categorical is deprecated and will be removed in a future version.  Use is_categorical_dtype instead\n",
      "  elif pd.api.types.is_categorical(cols):\n",
      "C:\\Users\\coco\\AppData\\Local\\Programs\\Python\\Python39\\lib\\site-packages\\sklearn\\linear_model\\_base.py:148: FutureWarning: 'normalize' was deprecated in version 1.0 and will be removed in 1.2. Please leave the normalize parameter to its default value to silence this warning. The default behavior of this estimator is to not do any normalization. If normalization is needed please use sklearn.preprocessing.StandardScaler instead.\n",
      "  warnings.warn(\n"
     ]
    },
    {
     "output_type": "execute_result",
     "data": {
      "text/plain": [
       "Pipeline(steps=[('onehotencoder',\n",
       "                 OneHotEncoder(cols=['Bldg_Type', 'Central_Air', 'Condition_1',\n",
       "                                     'Condition_2', 'Electrical', 'Exter_Cond',\n",
       "                                     'Exter_Qual', 'Exterior_1st',\n",
       "                                     'Exterior_2nd', 'Foundation', 'Functional',\n",
       "                                     'Heating', 'Heating_QC', 'House_Style',\n",
       "                                     'Kitchen_Qual', 'Land_Contour',\n",
       "                                     'Land_Slope', 'Lot_Config', 'Lot_Shape',\n",
       "                                     'MS_Zoning', 'Mas_Vnr_Type',\n",
       "                                     'Neighborhood', 'Paved_Drive', 'Roof_Matl',\n",
       "                                     'Roof_Style', 'Sale_Condition',\n",
       "                                     'Sale_Type', 'Street', 'Utilities'],\n",
       "                               use_cat_names=True)),\n",
       "                ('standardscaler', StandardScaler()),\n",
       "                ('ridge', Ridge(normalize=False))])"
      ]
     },
     "metadata": {},
     "execution_count": 17
    }
   ],
   "metadata": {
    "deletable": false,
    "nbgrader": {
     "cell_type": "code",
     "checksum": "46bcd5b6c64f4a1ae928ef1acd3b9de9",
     "grade": false,
     "grade_id": "cell-02455b6368014e2e",
     "locked": false,
     "schema_version": 3,
     "solution": true,
     "task": false
    }
   }
  },
  {
   "cell_type": "markdown",
   "source": [
    "**Task 7 Testing**"
   ],
   "metadata": {
    "deletable": false,
    "editable": false,
    "nbgrader": {
     "cell_type": "markdown",
     "checksum": "90aa367eafd0e03865b2cc63362e514b",
     "grade": false,
     "grade_id": "cell-2aa05e9d2072aafc",
     "locked": true,
     "schema_version": 3,
     "solution": false,
     "task": false
    }
   }
  },
  {
   "cell_type": "code",
   "execution_count": 18,
   "source": [
    "assert isinstance(model_r, Pipeline), '`model_r` is not a pipeline.'\r\n",
    "assert len(model_r.named_steps) > 1, 'Your `model_r` pipeline is missing components.'"
   ],
   "outputs": [],
   "metadata": {
    "deletable": false,
    "editable": false,
    "nbgrader": {
     "cell_type": "code",
     "checksum": "494444724b003384b1d52268e65b1de5",
     "grade": true,
     "grade_id": "cell-587e7ab699c005cb",
     "locked": true,
     "points": 1,
     "schema_version": 3,
     "solution": false,
     "task": false
    }
   }
  },
  {
   "cell_type": "markdown",
   "source": [
    "## V. Check Metrics\r\n",
    "\r\n",
    "**Task 8:** Compare your models by calculating their mean absolute error for the training and validation sets. You should assign these to the variables `model_lr_training_mae`, `model_lr_validation_mae`, `model_r_training_mae`, and `model_r_validation_mae`, respectively. The validation MAE for both your models should be lower than your `baseline_mae`."
   ],
   "metadata": {
    "deletable": false,
    "editable": false,
    "nbgrader": {
     "cell_type": "markdown",
     "checksum": "86f0a8fefb8c3757979597e025f9e21f",
     "grade": false,
     "grade_id": "cell-cb2403e89e718a6d",
     "locked": true,
     "schema_version": 3,
     "solution": false,
     "task": false
    }
   }
  },
  {
   "cell_type": "code",
   "execution_count": 19,
   "source": [
    "'''T8: Compare model metrics, MAE.'''\r\n",
    "# YOUR CODE HERE\r\n",
    "model_lr_training_mae = mean_absolute_error(y_train, model_lr.predict(X_train))\r\n",
    "model_lr_validation_mae = mean_absolute_error(y_val, model_lr.predict(X_val))\r\n",
    "model_r_training_mae = mean_absolute_error(y_train, model_r.predict(X_train))\r\n",
    "model_r_validation_mae = mean_absolute_error(y_val, model_r.predict(X_val))\r\n",
    "\r\n",
    "print('Linear Regression Model')\r\n",
    "print('Training MAE:', model_lr_training_mae)\r\n",
    "print('Validation MAE:', model_lr_validation_mae)\r\n",
    "print()\r\n",
    "print('Ridge Regression Model')\r\n",
    "print('Training MAE:', model_r_training_mae)\r\n",
    "print('Validation MAE:', model_r_validation_mae)\r\n"
   ],
   "outputs": [
    {
     "output_type": "stream",
     "name": "stdout",
     "text": [
      "Linear Regression Model\n",
      "Training MAE: 16351.5342650486\n",
      "Validation MAE: 2.1839357605615228e+16\n",
      "\n",
      "Ridge Regression Model\n",
      "Training MAE: 16119.82269174393\n",
      "Validation MAE: 17986.919803129404\n"
     ]
    }
   ],
   "metadata": {
    "deletable": false,
    "nbgrader": {
     "cell_type": "code",
     "checksum": "0c2faccf61831b14df7ab3c03e64a33b",
     "grade": false,
     "grade_id": "cell-10ea192c7e6ee9de",
     "locked": false,
     "schema_version": 3,
     "solution": true,
     "task": false
    }
   }
  },
  {
   "cell_type": "markdown",
   "source": [
    "**Task 8 Testing**"
   ],
   "metadata": {
    "deletable": false,
    "editable": false,
    "nbgrader": {
     "cell_type": "markdown",
     "checksum": "0d253121492c2cdb1eced8eed2776b35",
     "grade": false,
     "grade_id": "cell-2ec63ac76b9a8d09",
     "locked": true,
     "schema_version": 3,
     "solution": false,
     "task": false
    }
   }
  },
  {
   "cell_type": "code",
   "execution_count": 20,
   "source": [
    "'''T8 Tests'''\r\n",
    "assert isinstance(model_lr_training_mae, float), '`model_lr_training_mae` is not a float. Did you assign a value to this variable?'\r\n",
    "assert isinstance(model_lr_validation_mae, float), '`model_lr_validation_mae` is not a float. Did you assign a value to this variable?'\r\n",
    "assert isinstance(model_r_training_mae, float), '`model_r_training_mae` is not a float. Did you assign a value to this variable?'\r\n",
    "assert isinstance(model_r_validation_mae, float), '`model_r_validation_mae` is not a float. Did you assign a value to this variable?'"
   ],
   "outputs": [],
   "metadata": {
    "deletable": false,
    "editable": false,
    "nbgrader": {
     "cell_type": "code",
     "checksum": "865bfca633e9cfd2c5dd0adac5b5a183",
     "grade": true,
     "grade_id": "cell-e467cc19a51d9a41",
     "locked": true,
     "points": 1,
     "schema_version": 3,
     "solution": false,
     "task": false
    }
   }
  },
  {
   "cell_type": "markdown",
   "source": [
    "**Task 9:** Compare your two models by calculating their $R^2$ score for the **validation data**."
   ],
   "metadata": {
    "deletable": false,
    "editable": false,
    "nbgrader": {
     "cell_type": "markdown",
     "checksum": "cfd848fa6845b865766fdacba122f739",
     "grade": false,
     "grade_id": "cell-0299e563a01e1b52",
     "locked": true,
     "schema_version": 3,
     "solution": false,
     "task": false
    }
   }
  },
  {
   "cell_type": "code",
   "execution_count": 21,
   "source": [
    "'''T9: Compare model metrics, R^2.'''\r\n",
    "# YOUR CODE HERE\r\n",
    "model_lr_r2_score = model_lr.score(X_val, y_val)\r\n",
    "model_r_r2_score = model_r.score(X_val, y_val)\r\n",
    "print('Linear Regression R^2:', model_lr_r2_score)\r\n",
    "print('Ridge Regression R^2:', model_r_r2_score)\r\n"
   ],
   "outputs": [
    {
     "output_type": "stream",
     "name": "stdout",
     "text": [
      "Linear Regression R^2: -2.7288406515509394e+25\n",
      "Ridge Regression R^2: 0.8887380165377929\n"
     ]
    }
   ],
   "metadata": {
    "deletable": false,
    "nbgrader": {
     "cell_type": "code",
     "checksum": "194fd47bb0c692386205a20dce6d0ebd",
     "grade": false,
     "grade_id": "cell-92d55f4de3bb7f31",
     "locked": false,
     "schema_version": 3,
     "solution": true,
     "task": false
    }
   }
  },
  {
   "cell_type": "markdown",
   "source": [
    "**Task 9 Testing**"
   ],
   "metadata": {
    "deletable": false,
    "editable": false,
    "nbgrader": {
     "cell_type": "markdown",
     "checksum": "cdab1c4db0fa73faa3accb9a7f45c538",
     "grade": false,
     "grade_id": "cell-3b4914d6284ec6da",
     "locked": true,
     "schema_version": 3,
     "solution": false,
     "task": false
    }
   }
  },
  {
   "cell_type": "code",
   "execution_count": 22,
   "source": [
    "'''T9 Tests'''\r\n",
    "assert isinstance(model_lr_r2_score, float), '`model_lr_r2_score` is not a float. Did you assign a value to this variable?'\r\n",
    "assert isinstance(model_r_r2_score, float), '`model_r_r2_score` is not a float. Did you assign a value to this variable?'\r\n",
    "assert model_lr_r2_score <= 1, 'The maximum value for an R^2 score is 1.'\r\n",
    "assert model_r_r2_score <= 1, 'The maximum value for an R^2 score is 1.'"
   ],
   "outputs": [],
   "metadata": {
    "deletable": false,
    "editable": false,
    "nbgrader": {
     "cell_type": "code",
     "checksum": "9f96edc1cb343a3135e61e9657a73a32",
     "grade": true,
     "grade_id": "cell-7b79f2550b912074",
     "locked": true,
     "points": 1,
     "schema_version": 3,
     "solution": false,
     "task": false
    }
   }
  },
  {
   "cell_type": "markdown",
   "source": [
    "**Task 10:** Based on the metrics above, choose the best of your two models and generate an array of predictions `y_pred` using the test set below.\r\n",
    "\r\n",
    "**Note:** Make sure that you import and clean the test set *exactly the same way* you did with the training set at the start of this notebook."
   ],
   "metadata": {}
  },
  {
   "cell_type": "code",
   "execution_count": 23,
   "source": [
    "url_test = 'https://drive.google.com/uc?export=download&id=1y9u8cOWprTjruw8E-ct1c7YaEytToqd_'\r\n",
    "X_test = pd.read_csv(url_test, parse_dates=['Yr_Sold'], index_col='Yr_Sold')\r\n",
    "\r\n",
    "#X_test.isna().any().sum()\r\n",
    "\r\n",
    "# YOUR CODE HERE\r\n",
    "y_pred = model_r.predict(X_test)\r\n",
    "print('My predictions:', y_pred[:3])\r\n"
   ],
   "outputs": [
    {
     "output_type": "stream",
     "name": "stdout",
     "text": [
      "My predictions: [219431.82052472 104354.37322437 159396.82083221]\n"
     ]
    }
   ],
   "metadata": {
    "deletable": false,
    "nbgrader": {
     "cell_type": "code",
     "checksum": "e72becd77504ec4f4855ef07c4b7edfb",
     "grade": false,
     "grade_id": "cell-87695ab01935fdd9",
     "locked": false,
     "schema_version": 3,
     "solution": true,
     "task": false
    }
   }
  },
  {
   "cell_type": "markdown",
   "source": [
    "**Task 10 Testing:** There is a hidden test in the cell below. When you submit your notebook to Canvas, your test MAE will be calculated. In order to get the point for this task, your test MAE must be below 58,000.\n",
    "\n",
    "**Tip:** Use your validation MAE to estimate what your test MAE will be."
   ],
   "metadata": {
    "deletable": false,
    "editable": false,
    "nbgrader": {
     "cell_type": "markdown",
     "checksum": "a80a31eaf092ba24ab86f6d5e1ec9494",
     "grade": false,
     "grade_id": "cell-94a472804463b225",
     "locked": true,
     "schema_version": 3,
     "solution": false,
     "task": false
    }
   }
  },
  {
   "cell_type": "code",
   "execution_count": 24,
   "source": [
    "import numpy as np\r\n",
    "assert isinstance(y_pred, np.ndarray), '`y_pred` should be type `ndarray`.'\r\n",
    "assert y_pred.shape == (340,), '`y_pred` should be a 1-dimentional array with 340 predictions.'\r\n",
    "# Your test MAE will be printed out below when you submit your assignment."
   ],
   "outputs": [],
   "metadata": {
    "deletable": false,
    "editable": false,
    "nbgrader": {
     "cell_type": "code",
     "checksum": "8db84fc1232302dcfbccf4dba2c3221e",
     "grade": true,
     "grade_id": "cell-c3c94d263dabfe02",
     "locked": true,
     "points": 1,
     "schema_version": 3,
     "solution": false,
     "task": false
    }
   }
  },
  {
   "cell_type": "markdown",
   "source": [
    "**Task 11 (`stretch goal`):** There's no code to write for this task. Below is another testing cell that will calculate the MAE for your test set. In order to get the point for this task, your test MAE must be below 18,000.\r\n",
    "\r\n",
    "**Tip:** Are there any **hyperparameters** in your model that you could adjust to improve performance? "
   ],
   "metadata": {
    "deletable": false,
    "editable": false,
    "nbgrader": {
     "cell_type": "markdown",
     "checksum": "c07fa550b9f9172838d15922e90af360",
     "grade": false,
     "grade_id": "cell-281a86aa67d353e9",
     "locked": true,
     "schema_version": 3,
     "solution": false,
     "task": false
    }
   }
  },
  {
   "cell_type": "code",
   "execution_count": 25,
   "source": [
    "\"\"\" from sklearn.model_selection import GridSearchCV\r\n",
    "\r\n",
    "alphas = range(20,30)\r\n",
    "\r\n",
    "param = {\r\n",
    "    'ridge__alpha': alphas,\r\n",
    "}\r\n",
    "\r\n",
    "grid = GridSearchCV(estimator=model_r, param_grid=param, scoring='neg_mean_absolute_error')\r\n",
    "grid.fit(X_train, y_train)\r\n",
    " \"\"\"\r\n"
   ],
   "outputs": [
    {
     "output_type": "execute_result",
     "data": {
      "text/plain": [
       "\" from sklearn.model_selection import GridSearchCV\\n\\nalphas = range(20,30)\\n\\nparam = {\\n    'ridge__alpha': alphas,\\n}\\n\\ngrid = GridSearchCV(estimator=model_r, param_grid=param, scoring='neg_mean_absolute_error')\\ngrid.fit(X_train, y_train)\\n \""
      ]
     },
     "metadata": {},
     "execution_count": 25
    }
   ],
   "metadata": {}
  },
  {
   "cell_type": "code",
   "execution_count": 26,
   "source": [
    "\"\"\" pd.DataFrame(grid.cv_results_)\r\n",
    "grid.best_estimator_\r\n",
    " \"\"\""
   ],
   "outputs": [
    {
     "output_type": "execute_result",
     "data": {
      "text/plain": [
       "' pd.DataFrame(grid.cv_results_)\\ngrid.best_estimator_\\n '"
      ]
     },
     "metadata": {},
     "execution_count": 26
    }
   ],
   "metadata": {}
  },
  {
   "cell_type": "code",
   "execution_count": 27,
   "source": [
    "# alternatively\r\n",
    "alphas = range(20, 30)\r\n",
    "\r\n",
    "train_mae = []\r\n",
    "scores = []\r\n",
    "for value in alphas:\r\n",
    "    model_r = make_pipeline(ohe, std_scaler_norm, Ridge(alpha=value));\r\n",
    "    model_r.fit(X_train, y_train);\r\n",
    "    current_best = 0\r\n",
    "    scores.append(model_r.score(X_train, y_train))\r\n",
    "    train_mae.append(mean_absolute_error(y_train, model_r.predict(X_train)))\r\n"
   ],
   "outputs": [
    {
     "output_type": "stream",
     "name": "stderr",
     "text": [
      "C:\\Users\\coco\\AppData\\Local\\Programs\\Python\\Python39\\lib\\site-packages\\category_encoders\\utils.py:21: FutureWarning: is_categorical is deprecated and will be removed in a future version.  Use is_categorical_dtype instead\n",
      "  elif pd.api.types.is_categorical(cols):\n",
      "C:\\Users\\coco\\AppData\\Local\\Programs\\Python\\Python39\\lib\\site-packages\\category_encoders\\utils.py:21: FutureWarning: is_categorical is deprecated and will be removed in a future version.  Use is_categorical_dtype instead\n",
      "  elif pd.api.types.is_categorical(cols):\n",
      "C:\\Users\\coco\\AppData\\Local\\Programs\\Python\\Python39\\lib\\site-packages\\category_encoders\\utils.py:21: FutureWarning: is_categorical is deprecated and will be removed in a future version.  Use is_categorical_dtype instead\n",
      "  elif pd.api.types.is_categorical(cols):\n",
      "C:\\Users\\coco\\AppData\\Local\\Programs\\Python\\Python39\\lib\\site-packages\\category_encoders\\utils.py:21: FutureWarning: is_categorical is deprecated and will be removed in a future version.  Use is_categorical_dtype instead\n",
      "  elif pd.api.types.is_categorical(cols):\n",
      "C:\\Users\\coco\\AppData\\Local\\Programs\\Python\\Python39\\lib\\site-packages\\category_encoders\\utils.py:21: FutureWarning: is_categorical is deprecated and will be removed in a future version.  Use is_categorical_dtype instead\n",
      "  elif pd.api.types.is_categorical(cols):\n",
      "C:\\Users\\coco\\AppData\\Local\\Programs\\Python\\Python39\\lib\\site-packages\\category_encoders\\utils.py:21: FutureWarning: is_categorical is deprecated and will be removed in a future version.  Use is_categorical_dtype instead\n",
      "  elif pd.api.types.is_categorical(cols):\n",
      "C:\\Users\\coco\\AppData\\Local\\Programs\\Python\\Python39\\lib\\site-packages\\category_encoders\\utils.py:21: FutureWarning: is_categorical is deprecated and will be removed in a future version.  Use is_categorical_dtype instead\n",
      "  elif pd.api.types.is_categorical(cols):\n",
      "C:\\Users\\coco\\AppData\\Local\\Programs\\Python\\Python39\\lib\\site-packages\\category_encoders\\utils.py:21: FutureWarning: is_categorical is deprecated and will be removed in a future version.  Use is_categorical_dtype instead\n",
      "  elif pd.api.types.is_categorical(cols):\n",
      "C:\\Users\\coco\\AppData\\Local\\Programs\\Python\\Python39\\lib\\site-packages\\category_encoders\\utils.py:21: FutureWarning: is_categorical is deprecated and will be removed in a future version.  Use is_categorical_dtype instead\n",
      "  elif pd.api.types.is_categorical(cols):\n",
      "C:\\Users\\coco\\AppData\\Local\\Programs\\Python\\Python39\\lib\\site-packages\\category_encoders\\utils.py:21: FutureWarning: is_categorical is deprecated and will be removed in a future version.  Use is_categorical_dtype instead\n",
      "  elif pd.api.types.is_categorical(cols):\n"
     ]
    }
   ],
   "metadata": {}
  },
  {
   "cell_type": "code",
   "execution_count": 31,
   "source": [
    "plt.plot(alphas, train_mae, color='orange', label='training')\r\n",
    "plt.plot(alphas, scores, color='blue', label='training')\r\n",
    "plt.show()\r\n",
    "pd.DataFrame(train_mae)\r\n",
    "\r\n",
    "\r\n",
    "model_r = make_pipeline(ohe, std_scaler_norm, Ridge(alpha=29))\r\n",
    "model_r.fit(X_train, y_train)\r\n",
    "\r\n",
    "y_pred = model_r.predict(X_test)"
   ],
   "outputs": [
    {
     "output_type": "display_data",
     "data": {
      "image/png": "[encoded data removed]",
      "text/plain": [
       "<Figure size 432x288 with 1 Axes>"
      ]
     },
     "metadata": {
      "needs_background": "light"
     }
    },
    {
     "output_type": "stream",
     "name": "stderr",
     "text": [
      "C:\\Users\\coco\\AppData\\Local\\Programs\\Python\\Python39\\lib\\site-packages\\category_encoders\\utils.py:21: FutureWarning: is_categorical is deprecated and will be removed in a future version.  Use is_categorical_dtype instead\n",
      "  elif pd.api.types.is_categorical(cols):\n"
     ]
    }
   ],
   "metadata": {}
  },
  {
   "cell_type": "code",
   "execution_count": 33,
   "source": [
    "assert isinstance(y_pred, np.ndarray), '`y_pred` should be type `ndarray`.'\r\n",
    "assert y_pred.shape == (340,), '`y_pred` should be a 1-dimentional array with 340 predictions.'\r\n",
    "# Your test MAE will be printed out below when you submit your assignment."
   ],
   "outputs": [],
   "metadata": {
    "deletable": false,
    "editable": false,
    "nbgrader": {
     "cell_type": "code",
     "checksum": "a1d7e19ba4855a945493c2d442e931e8",
     "grade": true,
     "grade_id": "cell-40815d96e2a2adf9",
     "locked": true,
     "points": 1,
     "schema_version": 3,
     "solution": false,
     "task": false
    }
   }
  },
  {
   "cell_type": "markdown",
   "source": [
    "## VI. Explain Model\n",
    "\n",
    "**Task 12 (`stretch goal`):** Create a horizontal barchart for your best performing model that shows the ten most important features for the model's predictions. Don't forget to label your axes!"
   ],
   "metadata": {
    "deletable": false,
    "editable": false,
    "nbgrader": {
     "cell_type": "markdown",
     "checksum": "be6e79e32e8e72ffb454996bc15a4708",
     "grade": false,
     "grade_id": "cell-e724aba3fc221134",
     "locked": true,
     "schema_version": 3,
     "solution": false,
     "task": false
    }
   }
  },
  {
   "cell_type": "code",
   "execution_count": 32,
   "source": [
    "barplot = pd.DataFrame(data=model_r[2].coef_, columns=['coefficient'],index=model_r[0].get_feature_names()).abs().sort_values(by='coefficient').tail(10).plot(kind='barh')\r\n",
    "barplot.set_xlabel('Coef')\r\n",
    "barplot.set_ylabel('Parameters')\r\n",
    "barplot.set_title('Best Parameters')"
   ],
   "outputs": [
    {
     "output_type": "execute_result",
     "data": {
      "text/plain": [
       "Text(0.5, 1.0, 'Best Parameters')"
      ]
     },
     "metadata": {},
     "execution_count": 32
    },
    {
     "output_type": "display_data",
     "data": {
      "image/png": "[encoded data removed]",
      "text/plain": [
       "<Figure size 432x288 with 1 Axes>"
      ]
     },
     "metadata": {
      "needs_background": "light"
     }
    }
   ],
   "metadata": {
    "deletable": false,
    "nbgrader": {
     "cell_type": "code",
     "checksum": "22360b5fca505bd10654fae809bf2797",
     "grade": false,
     "grade_id": "cell-ebd0b1ea2eab31c6",
     "locked": false,
     "schema_version": 3,
     "solution": true,
     "task": false
    }
   }
  }
 ],
 "metadata": {
  "colab": {
   "collapsed_sections": [],
   "name": "DS_Sprint_Challenge_5.ipynb",
   "provenance": []
  },
  "kernelspec": {
   "name": "python3",
   "display_name": "Python 3.9.6 64-bit"
  },
  "language_info": {
   "codemirror_mode": {
    "name": "ipython",
    "version": 3
   },
   "file_extension": ".py",
   "mimetype": "text/x-python",
   "name": "python",
   "nbconvert_exporter": "python",
   "pygments_lexer": "ipython3",
   "version": "3.9.6"
  },
  "interpreter": {
   "hash": "4b7a67c094ca4859574ab7812cb20959fc8d8ba5f9f349a7149ef35bab6b6336"
  }
 },
 "nbformat": 4,
 "nbformat_minor": 1
}