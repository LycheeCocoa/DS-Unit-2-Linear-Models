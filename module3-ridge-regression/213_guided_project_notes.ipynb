{
  "nbformat": 4,
  "nbformat_minor": 2,
  "metadata": {
    "colab": {
      "name": "213-guided-project-notes.ipynb",
      "provenance": [],
      "collapsed_sections": []
    },
    "kernelspec": {
      "name": "python3",
      "display_name": "Python 3.9.6 64-bit"
    },
    "language_info": {
      "name": "python",
      "version": "3.9.6",
      "mimetype": "text/x-python",
      "codemirror_mode": {
        "name": "ipython",
        "version": 3
      },
      "pygments_lexer": "ipython3",
      "nbconvert_exporter": "python",
      "file_extension": ".py"
    },
    "interpreter": {
      "hash": "4b7a67c094ca4859574ab7812cb20959fc8d8ba5f9f349a7149ef35bab6b6336"
    }
  },
  "cells": [
    {
      "cell_type": "code",
      "execution_count": 5,
      "source": [
        "# Model Building\r\n",
        "from sklearn.feature_selection import SelectKBest, f_regression\r\n",
        "from sklearn.linear_model import LinearRegression, Ridge\r\n",
        "from sklearn.metrics import mean_absolute_error, mean_squared_error\r\n",
        "from sklearn.pipeline import make_pipeline\r\n",
        "import numpy as np\r\n",
        "import matplotlib.pyplot as plt\r\n",
        "import pandas as pd\r\n",
        "\r\n",
        "# For running this notebook either locally or in colab\r\n",
        "import sys"
      ],
      "outputs": [],
      "metadata": {
        "id": "k0dvbuCzd5qK"
      }
    },
    {
      "cell_type": "code",
      "execution_count": 6,
      "source": [
        "%%capture\r\n",
        "# If you're on Colab:\r\n",
        "if 'google.colab' in sys.modules:\r\n",
        "    DATA_PATH = 'https://raw.githubusercontent.com/LambdaSchool/DS-Unit-2-Applied-Modeling/master/data/'\r\n",
        "    !pip install category_encoders==2.*\r\n",
        "\r\n",
        "# If you're working locally:\r\n",
        "else:\r\n",
        "    DATA_PATH = '../data/'"
      ],
      "outputs": [],
      "metadata": {
        "id": "wz7tyC22gLEA"
      }
    },
    {
      "cell_type": "code",
      "execution_count": 7,
      "source": [
        "# For encoding categorical data\r\n",
        "from category_encoders import OneHotEncoder"
      ],
      "outputs": [],
      "metadata": {
        "id": "eK1JmTLj8wFC"
      }
    },
    {
      "cell_type": "markdown",
      "source": [
        "# NYC Rent\n",
        "\n",
        "**GOAL:** Improve our model for predicting NYC rent prices.\n",
        "\n",
        "**Objectives**\n",
        "\n",
        "- Do one-hot encoding of categorical features\n",
        "- Do univariate feature selection\n",
        "- Use scikit-learn to fit Ridge Regression models"
      ],
      "metadata": {
        "id": "c9XvBGFMguJ1"
      }
    },
    {
      "cell_type": "markdown",
      "source": [
        "# I. Wrangle Data"
      ],
      "metadata": {
        "id": "0kaV7oNahJLj"
      }
    },
    {
      "cell_type": "markdown",
      "source": [
        "Create **wrangle function** for **reproducibility**."
      ],
      "metadata": {
        "id": "iOecYDRyx5m-"
      }
    },
    {
      "cell_type": "code",
      "execution_count": 8,
      "source": [
        "def wrangle(filepath):\r\n",
        "  df = pd.read_csv(filepath)\r\n",
        "  \r\n",
        "  # Remove outlier observations\r\n",
        "  df = df[(df['price'] >= np.percentile(df['price'], 0.05)) & \r\n",
        "          (df['price'] <= np.percentile(df['price'], 99.5)) & \r\n",
        "          (df['latitude'] >= np.percentile(df['latitude'], 0.05)) & \r\n",
        "          (df['latitude'] < np.percentile(df['latitude'], 99.95)) &\r\n",
        "          (df['longitude'] >= np.percentile(df['longitude'], 0.05)) & \r\n",
        "          (df['longitude'] <= np.percentile(df['longitude'], 99.95))]\r\n",
        "\r\n",
        "\r\n",
        "  return df\r\n",
        "\r\n",
        "df = wrangle(DATA_PATH+'apartments/renthop-nyc.csv')"
      ],
      "outputs": [],
      "metadata": {
        "id": "m9Dm3h3Ux5AI"
      }
    },
    {
      "cell_type": "markdown",
      "source": [
        "# II. Split Data\n",
        "\n",
        "Split **target vector** from **feature matrix**."
      ],
      "metadata": {
        "id": "Fr-x5LJo0pRc"
      }
    },
    {
      "cell_type": "code",
      "execution_count": 14,
      "source": [],
      "outputs": [
        {
          "output_type": "execute_result",
          "data": {
            "text/plain": [
              "dtype('int64')"
            ]
          },
          "metadata": {},
          "execution_count": 14
        }
      ],
      "metadata": {
        "id": "r2TXo5xLo662"
      }
    },
    {
      "cell_type": "markdown",
      "source": [
        "Split data into **training** and **test** sets.\n",
        "\n",
        "(Use data from April & May 2016 to train. Use data from June 2016 to test.)"
      ],
      "metadata": {
        "id": "ZMoRDMuT7A7q"
      }
    },
    {
      "cell_type": "code",
      "execution_count": null,
      "source": [],
      "outputs": [],
      "metadata": {
        "id": "7w92aZ7co9CA"
      }
    },
    {
      "cell_type": "markdown",
      "source": [
        "# III. Establish Baseline"
      ],
      "metadata": {
        "id": "-x9lFKmupRWk"
      }
    },
    {
      "cell_type": "markdown",
      "source": [
        "**Note:** This is a **regression** problem because we're predictiong the continuous value `'price'`."
      ],
      "metadata": {
        "id": "d1BOKNBc7Jnf"
      }
    },
    {
      "cell_type": "code",
      "execution_count": null,
      "source": [],
      "outputs": [],
      "metadata": {
        "id": "-XNZHgf-7XQc"
      }
    },
    {
      "cell_type": "markdown",
      "source": [
        "# IV. Build Models"
      ],
      "metadata": {
        "id": "Xea7aFidqPoV"
      }
    },
    {
      "cell_type": "markdown",
      "source": [
        "**Question:** How can we represent *categorical* features numerically so that we can use them to train our model?"
      ],
      "metadata": {
        "id": "TFc7aAwylBwv"
      }
    },
    {
      "cell_type": "code",
      "execution_count": null,
      "source": [],
      "outputs": [],
      "metadata": {
        "id": "IKwppXfWIH_K"
      }
    },
    {
      "cell_type": "markdown",
      "source": [
        "**Model 1:** Regular ol' linear regression"
      ],
      "metadata": {
        "id": "35SyuZhQQqNu"
      }
    },
    {
      "cell_type": "code",
      "execution_count": null,
      "source": [],
      "outputs": [],
      "metadata": {
        "id": "OOsVETc19TXY"
      }
    },
    {
      "cell_type": "markdown",
      "source": [
        "**Model 2:** Ridge regression (regularization)"
      ],
      "metadata": {
        "id": "gMjtQqeVQufl"
      }
    },
    {
      "cell_type": "code",
      "execution_count": null,
      "source": [],
      "outputs": [],
      "metadata": {
        "id": "ZRs-fAaeQt1e"
      }
    },
    {
      "cell_type": "markdown",
      "source": [
        "**Model 3:** `SelectKBest`"
      ],
      "metadata": {
        "id": "J2N4D4VFSiks"
      }
    },
    {
      "cell_type": "code",
      "execution_count": 9,
      "source": [
        "model_lr_skb = ..."
      ],
      "outputs": [],
      "metadata": {
        "id": "OiJ7pnJRSh-N"
      }
    },
    {
      "cell_type": "markdown",
      "source": [
        "# V. Check Metrics"
      ],
      "metadata": {
        "id": "rHhIH6VE0iRH"
      }
    },
    {
      "cell_type": "code",
      "execution_count": null,
      "source": [],
      "outputs": [],
      "metadata": {
        "id": "hDj8LEUVOdGs"
      }
    },
    {
      "cell_type": "code",
      "execution_count": null,
      "source": [],
      "outputs": [],
      "metadata": {
        "id": "BXrqHj_lHPum"
      }
    },
    {
      "cell_type": "code",
      "execution_count": null,
      "source": [],
      "outputs": [],
      "metadata": {
        "id": "ZJUhiKt7TrW5"
      }
    },
    {
      "cell_type": "markdown",
      "source": [
        "# Communicate results"
      ],
      "metadata": {
        "id": "uI9K2OXDWThQ"
      }
    },
    {
      "cell_type": "code",
      "execution_count": null,
      "source": [],
      "outputs": [],
      "metadata": {
        "id": "84xIPGtUBbsA"
      }
    },
    {
      "cell_type": "code",
      "execution_count": null,
      "source": [],
      "outputs": [],
      "metadata": {
        "id": "RlAyipCNav1H"
      }
    },
    {
      "cell_type": "code",
      "execution_count": null,
      "source": [],
      "outputs": [],
      "metadata": {
        "id": "kGaaKSUXaeGo"
      }
    }
  ]
}