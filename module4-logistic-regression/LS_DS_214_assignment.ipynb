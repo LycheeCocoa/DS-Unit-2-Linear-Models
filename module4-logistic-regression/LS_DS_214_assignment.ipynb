{
 "cells": [
  {
   "cell_type": "markdown",
   "source": [
    "Lambda School Data Science\n",
    "\n",
    "*Unit 2, Sprint 1, Module 4*\n",
    "\n",
    "---"
   ],
   "metadata": {}
  },
  {
   "cell_type": "code",
   "execution_count": 860,
   "source": [
    "%%capture\r\n",
    "\r\n",
    "import sys\r\n",
    "import pandas as pd\r\n",
    "import numpy as np\r\n",
    "\r\n",
    "from sklearn.model_selection import cross_val_score\r\n",
    "from sklearn.preprocessing import StandardScaler\r\n",
    "from sklearn.linear_model import LogisticRegression as lr\r\n",
    "from sklearn.impute import SimpleImputer\r\n",
    "from category_encoders import OneHotEncoder\r\n",
    "from sklearn.pipeline import make_pipeline\r\n",
    "# If you're on Colab:\r\n",
    "if 'google.colab' in sys.modules:\r\n",
    "    DATA_PATH = 'https://raw.githubusercontent.com/LambdaSchool/DS-Unit-2-Linear-Models/master/data/'\r\n",
    "    !pip install category_encoders==2.*\r\n",
    "\r\n",
    "# If you're working locally:\r\n",
    "else:\r\n",
    "    DATA_PATH = '../data/'\r\n"
   ],
   "outputs": [],
   "metadata": {}
  },
  {
   "cell_type": "markdown",
   "source": [
    "# Module Project: Logistic Regression\r\n",
    "\r\n",
    "Do you like burritos? 🌯 You're in luck then, because in this project you'll create a model to predict whether a burrito is `'Great'`.\r\n",
    "\r\n",
    "The dataset for this assignment comes from [Scott Cole](https://srcole.github.io/100burritos/), a San Diego-based data scientist and burrito enthusiast. \r\n",
    "\r\n",
    "## Directions\r\n",
    "\r\n",
    "The tasks for this project are the following:\r\n",
    "\r\n",
    "- **Task 1:** Import `csv` file using `wrangle` function.\r\n",
    "- **Task 2:** Conduct exploratory data analysis (EDA), and modify `wrangle` function .\r\n",
    "- **Task 3:** Split data into feature matrix `X` and target vector `y`.\r\n",
    "- **Task 4:** Split feature matrix `X` and target vector `y` into training and test sets.\r\n",
    "- **Task 5:** Establish the baseline accuracy score for your dataset.\r\n",
    "- **Task 6:** Build `model_logr` using a pipeline that includes three transfomers and `LogisticRegression` predictor. Train model on `X_train` and `X_test`.\r\n",
    "- **Task 7:** Calculate the training and test accuracy score for your model.\r\n",
    "- **Task 8:** Create a horizontal bar chart showing the 10 most influencial features for your  model. \r\n",
    "- **Task 9:** Demonstrate and explain the differences between `model_lr.predict()` and `model_lr.predict_proba()`.\r\n",
    "\r\n",
    "**Note** \r\n",
    "\r\n",
    "You should limit yourself to the following libraries:\r\n",
    "\r\n",
    "- `category_encoders`\r\n",
    "- `matplotlib`\r\n",
    "- `pandas`\r\n",
    "- `sklearn`"
   ],
   "metadata": {}
  },
  {
   "cell_type": "markdown",
   "source": [
    "# I. Wrangle Data"
   ],
   "metadata": {}
  },
  {
   "cell_type": "code",
   "execution_count": 861,
   "source": [
    "\r\n",
    "def wrangle(filepath):\r\n",
    "    # Import w/ DateTimeIndex\r\n",
    "    df = pd.read_csv(filepath, parse_dates=['Date'],\r\n",
    "                     index_col='Date')\r\n",
    "\r\n",
    "    # Drop unrated burritos\r\n",
    "    df.dropna(subset=['overall'], inplace=True)\r\n",
    "\r\n",
    "    # Derive binary classification target:\r\n",
    "    # We define a 'Great' burrito as having an\r\n",
    "    # overall rating of 4 or higher, on a 5 point scale\r\n",
    "    df['Great'] = (df['overall'] >= 4).astype(int)\r\n",
    "\r\n",
    "    # Drop high cardinality categoricals\r\n",
    "    df = df.drop(columns=['Notes', 'Location',\r\n",
    "                 'Address', 'URL', 'Neighborhood'])\r\n",
    "\r\n",
    "    # Drop columns to prevent \"leakage\"\r\n",
    "    df = df.drop(columns=['Rec', 'overall'])\r\n",
    "    df = df.drop(columns=['Queso'])\r\n",
    "    return df\r\n",
    "\r\n",
    "\r\n",
    "filepath = DATA_PATH + 'burritos/burritos.csv'\r\n"
   ],
   "outputs": [],
   "metadata": {}
  },
  {
   "cell_type": "markdown",
   "source": [
    "**Task 1:** Use the above `wrangle` function to import the `burritos.csv` file into a DataFrame named `df`."
   ],
   "metadata": {}
  },
  {
   "cell_type": "code",
   "execution_count": 862,
   "source": [
    "filepath = DATA_PATH + 'burritos/burritos.csv'\r\n",
    "df = wrangle(filepath)\r\n"
   ],
   "outputs": [],
   "metadata": {}
  },
  {
   "cell_type": "markdown",
   "source": [
    "During your exploratory data analysis, note that there are several columns whose data type is `object` but that seem to be a binary encoding. For example, `df['Beef'].head()` returns:\n",
    "\n",
    "```\n",
    "0      x\n",
    "1      x\n",
    "2    NaN\n",
    "3      x\n",
    "4      x\n",
    "Name: Beef, dtype: object\n",
    "```\n",
    "\n",
    "**Task 2:** Change the `wrangle` function so that these columns are properly encoded as `0` and `1`s. Be sure your code handles upper- and lowercase `X`s, and `NaN`s."
   ],
   "metadata": {}
  },
  {
   "cell_type": "code",
   "execution_count": 863,
   "source": [
    "def encode(df):\r\n",
    "    list = ['x', 'X', 'Yes', 'No']\r\n",
    "    dict = {'x': '1', 'X': '1', 'Yes': '1', 'No': '0'}\r\n",
    "    if any(x in df.value_counts().index.to_list() for x in list):\r\n",
    "        df = df.map(dict)\r\n",
    "        df = df.fillna(0)\r\n",
    "    return df\r\n",
    "\r\n",
    "\r\n",
    "df = df.apply(encode)\r\n"
   ],
   "outputs": [],
   "metadata": {}
  },
  {
   "cell_type": "code",
   "execution_count": 874,
   "source": [
    "# Conduct your exploratory data analysis here\r\n",
    "# And modify the `wrangle` function above.\r\n",
    "\r\n",
    "#making sure I cleaned up all null valls\r\n",
    "for col in df:\r\n",
    "    if df[col].notnull().sum() != len(df):\r\n",
    "        if(df[col].dtype != ('float64' or 'int64')):\r\n",
    "            print(df[col].name)"
   ],
   "outputs": [
    {
     "output_type": "stream",
     "name": "stdout",
     "text": [
      "Reviewer\n"
     ]
    }
   ],
   "metadata": {}
  },
  {
   "cell_type": "markdown",
   "source": [
    "If you explore the `'Burrito'` column of `df`, you'll notice that it's a high-cardinality categorical feature. You'll also notice that there's a lot of overlap between the categories. \r\n",
    "\r\n",
    "**Stretch Goal:** Change the `wrangle` function above so that it engineers four new features: `'california'`, `'asada'`, `'surf'`, and `'carnitas'`. Each row should have a `1` or `0` based on the text information in the `'Burrito'` column. For example, here's how the first 5 rows of the dataset would look.\r\n",
    "\r\n",
    "| **Burrito** | **california** | **asada** | **surf** | **carnitas** |\r\n",
    "| :---------- | :------------: | :-------: | :------: | :----------: |\r\n",
    "| California  |       1        |     0     |    0     |      0       |\r\n",
    "| California  |       1        |     0     |    0     |      0       |\r\n",
    "|  Carnitas   |       0        |     0     |    0     |      1       |\r\n",
    "| Carne asada |       0        |     1     |    0     |      0       |\r\n",
    "| California  |       1        |     0     |    0     |      0       |\r\n",
    "\r\n",
    "**Note:** Be sure to also drop the `'Burrito'` once you've engineered your new features."
   ],
   "metadata": {}
  },
  {
   "cell_type": "code",
   "execution_count": 865,
   "source": [
    "# Conduct your exploratory data analysis here\r\n",
    "# And modify the `wrangle` function above.\r\n",
    "\r\n",
    "df.loc[df['Burrito'] == 'California', 'california'] = 1\r\n",
    "df.loc[df['Burrito'] != 'California', 'california'] = 0\r\n",
    "df['california'] = df['california'].astype(int)\r\n",
    "\r\n",
    "\r\n",
    "df.loc[df['Burrito'] == 'Carnitas', 'carnitas'] = 1\r\n",
    "df.loc[df['Burrito'] != 'Carnitas', 'carnitas'] = 0\r\n",
    "df['carnitas'] = df['carnitas'].astype(int)\r\n",
    "\r\n",
    "df.loc[df['Burrito'] == 'Carne asada', 'asada'] = 1\r\n",
    "df.loc[df['Burrito'] != 'Carne asada', 'asada'] = 0\r\n",
    "df['asada'] = df['asada'].astype(int)\r\n",
    "\r\n",
    "df.loc[df['Burrito'].str.contains('surf', case=False),'surf'] = 1\r\n",
    "df['surf'] = df['surf'].fillna(0)\r\n",
    "df['surf'] = df['surf'].astype(int)\r\n",
    "\r\n",
    "\r\n",
    "#pd.set_option(\"display.max_rows\", None, \"display.max_columns\", None)\r\n",
    "#df['Burrito'].value_counts()\r\n",
    "\r\n",
    "df.drop(columns='Burrito', inplace=True)\r\n"
   ],
   "outputs": [],
   "metadata": {}
  },
  {
   "cell_type": "markdown",
   "source": [
    "# II. Split Data\n",
    "\n",
    "**Task 3:** Split your dataset into the feature matrix `X` and the target vector `y`. You want to predict `'Great'`."
   ],
   "metadata": {}
  },
  {
   "cell_type": "code",
   "execution_count": 866,
   "source": [
    "X = df.drop(columns=['Great'])\r\n",
    "y = df['Great']"
   ],
   "outputs": [],
   "metadata": {}
  },
  {
   "cell_type": "markdown",
   "source": [
    "**Task 4:** Split `X` and `y` into a training set (`X_train`, `y_train`) and a test set (`X_test`, `y_test`).\n",
    "\n",
    "- Your training set should include data from 2016 through 2017. \n",
    "- Your test set should include data from 2018 and later."
   ],
   "metadata": {}
  },
  {
   "cell_type": "code",
   "execution_count": 867,
   "source": [
    "train = (X.index.year <= 2017) & (X.index.year >= 2016)\r\n",
    "test = X.index.year >= 2018\r\n",
    "X_train, y_train = X[train], y[train]\r\n",
    "X_test, y_test = X[test], y[test]"
   ],
   "outputs": [],
   "metadata": {}
  },
  {
   "cell_type": "markdown",
   "source": [
    "# III. Establish Baseline\n",
    "\n",
    "**Task 5:** Since this is a **classification** problem, you should establish a baseline accuracy score. Figure out what is the majority class in `y_train` and what percentage of your training observations it represents. "
   ],
   "metadata": {}
  },
  {
   "cell_type": "code",
   "execution_count": 868,
   "source": [
    "baseline_acc = y_train.value_counts(normalize=True).max()\r\n",
    "print('Baseline Accuracy Score:', baseline_acc)\r\n"
   ],
   "outputs": [
    {
     "output_type": "stream",
     "name": "stdout",
     "text": [
      "Baseline Accuracy Score: 0.5826771653543307\n"
     ]
    }
   ],
   "metadata": {}
  },
  {
   "cell_type": "markdown",
   "source": [
    "# IV. Build Model\r\n",
    "\r\n",
    "**Task 6:** Build a `Pipeline` named `model_logr`, and fit it to your training data. Your pipeline should include:\r\n",
    "\r\n",
    "- a `OneHotEncoder` transformer for categorical features, \r\n",
    "- a `SimpleImputer` transformer to deal with missing values, \r\n",
    "- a [`StandarScaler`](https://scikit-learn.org/stable/modules/generated/sklearn.preprocessing.StandardScaler.html) transfomer (which often improves performance in a logistic regression model), and \r\n",
    "- a `LogisticRegression` predictor."
   ],
   "metadata": {}
  },
  {
   "cell_type": "code",
   "execution_count": 869,
   "source": [
    "model_logr = make_pipeline(OneHotEncoder(use_cat_names=True), SimpleImputer(\r\n",
    "    strategy='mean'), StandardScaler(), lr())\r\n",
    "\r\n",
    "model_logr.fit(X_train, y_train)\r\n"
   ],
   "outputs": [
    {
     "output_type": "stream",
     "name": "stderr",
     "text": [
      "C:\\Users\\coco\\AppData\\Local\\Programs\\Python\\Python39\\lib\\site-packages\\category_encoders\\utils.py:21: FutureWarning: is_categorical is deprecated and will be removed in a future version.  Use is_categorical_dtype instead\n",
      "  elif pd.api.types.is_categorical(cols):\n"
     ]
    },
    {
     "output_type": "execute_result",
     "data": {
      "text/plain": [
       "Pipeline(steps=[('onehotencoder',\n",
       "                 OneHotEncoder(cols=['Chips', 'Reviewer', 'Unreliable', 'NonSD',\n",
       "                                     'Beef', 'Pico', 'Guac', 'Cheese', 'Fries',\n",
       "                                     'Sour cream', 'Pork', 'Chicken', 'Shrimp',\n",
       "                                     'Fish', 'Rice', 'Beans', 'Lettuce',\n",
       "                                     'Tomato', 'Bell peper', 'Carrots',\n",
       "                                     'Cabbage', 'Sauce', 'Salsa.1', 'Cilantro',\n",
       "                                     'Onion', 'Taquito', 'Pineapple', 'Ham',\n",
       "                                     'Chile relleno', 'Nopales', ...],\n",
       "                               use_cat_names=True)),\n",
       "                ('simpleimputer', SimpleImputer()),\n",
       "                ('standardscaler', StandardScaler()),\n",
       "                ('logisticregression', LogisticRegression())])"
      ]
     },
     "metadata": {},
     "execution_count": 869
    }
   ],
   "metadata": {}
  },
  {
   "cell_type": "markdown",
   "source": [
    "# IV. Check Metrics\n",
    "\n",
    "**Task 7:** Calculate the training and test accuracy score for `model_lr`."
   ],
   "metadata": {}
  },
  {
   "cell_type": "code",
   "execution_count": 883,
   "source": [
    "training_acc = model_logr.score(X_train, y_train)\r\n",
    "test_acc = model_logr.score(X_test,y_test)\r\n",
    "print('Training MAE:', training_acc)\r\n",
    "print('Test MAE:', test_acc)\r\n"
   ],
   "outputs": [
    {
     "output_type": "stream",
     "name": "stdout",
     "text": [
      "Training MAE: 0.9711286089238845\n",
      "Test MAE: 0.7894736842105263\n"
     ]
    }
   ],
   "metadata": {}
  },
  {
   "cell_type": "markdown",
   "source": [
    "# V. Communicate Results\n",
    "\n",
    "**Task 8:** Create a horizontal barchart that plots the 10 most important coefficients for `model_lr`, sorted by absolute value.\n",
    "\n",
    "**Note:** Since you created your model using a `Pipeline`, you'll need to use the [`named_steps`](https://scikit-learn.org/stable/modules/generated/sklearn.pipeline.Pipeline.html) attribute to access the coefficients in your `LogisticRegression` predictor. Be sure to look at the shape of the coefficients array before you combine it with the feature names."
   ],
   "metadata": {}
  },
  {
   "cell_type": "code",
   "execution_count": 871,
   "source": [
    "pd.DataFrame(data=model_logr['logisticregression'].coef_.reshape(-1,\r\n",
    "             1), columns=['coefficient'], index=model_logr[0].get_feature_names()).abs().sort_values(by='coefficient').tail(10).plot(kind='barh')\r\n",
    "# Create your horizontal barchart here.\r\n"
   ],
   "outputs": [
    {
     "output_type": "execute_result",
     "data": {
      "text/plain": [
       "<AxesSubplot:>"
      ]
     },
     "metadata": {},
     "execution_count": 871
    },
    {
     "output_type": "display_data",
     "data": {
      "image/png": "[encoded data removed]",
      "text/plain": [
       "<Figure size 432x288 with 1 Axes>"
      ]
     },
     "metadata": {
      "needs_background": "light"
     }
    }
   ],
   "metadata": {}
  },
  {
   "cell_type": "markdown",
   "source": [
    "There is more than one way to generate predictions with `model_lr`. For instance, you can use [`predict`](https://scikit-learn.org/stable/modules/generated/sklearn.linear_model.LogisticRegression.html?highlight=logisticregression) or [`predict_proba`](https://scikit-learn.org/stable/modules/generated/sklearn.linear_model.LogisticRegression.html?highlight=logisticregression#sklearn.linear_model.LogisticRegression.predict_proba).\n",
    "\n",
    "**Task 9:** Generate predictions for `X_test` using both `predict` and `predict_proba`. Then below, write a summary of the differences in the output for these two methods. You should answer the following questions:\n",
    "\n",
    "- What data type do `predict` and `predict_proba` output?\n",
    "- What are the shapes of their different output?\n",
    "- What numerical values are in the output?\n",
    "- What do those numerical values represent?"
   ],
   "metadata": {}
  },
  {
   "cell_type": "code",
   "execution_count": 887,
   "source": [
    "# Write code here to explore the differences between `predict` and `predict_proba`.\r\n",
    "predict = model_logr.predict(X_train)\r\n",
    "predict_proba = model_logr.predict_proba(X_test)\r\n",
    "\r\n",
    "# percent of great burritos.\r\n",
    "predict.sum() / len(predict)"
   ],
   "outputs": [
    {
     "output_type": "execute_result",
     "data": {
      "text/plain": [
       "0.4041994750656168"
      ]
     },
     "metadata": {},
     "execution_count": 887
    }
   ],
   "metadata": {}
  },
  {
   "cell_type": "markdown",
   "source": [
    "**Give your written answer here:**\r\n",
    "\r\n",
    "```\r\n",
    "predict returns a np.array that predicts whether the burrito was great(1) or not(0). its shape should be the length of the training set\r\n",
    "\r\n",
    "predict_proba returns a np.array with the probability of whether or not the data belongs to class 0(not Great) to class 1(Great burrito). its shape should be two dimensional.\r\n",
    "```"
   ],
   "metadata": {}
  }
 ],
 "metadata": {
  "colab": {
   "collapsed_sections": [],
   "name": "LS_DS_214_solution.ipynb",
   "provenance": []
  },
  "kernelspec": {
   "name": "python3",
   "display_name": "Python 3.9.6 64-bit"
  },
  "language_info": {
   "codemirror_mode": {
    "name": "ipython",
    "version": 3
   },
   "file_extension": ".py",
   "mimetype": "text/x-python",
   "name": "python",
   "nbconvert_exporter": "python",
   "pygments_lexer": "ipython3",
   "version": "3.9.6"
  },
  "interpreter": {
   "hash": "4b7a67c094ca4859574ab7812cb20959fc8d8ba5f9f349a7149ef35bab6b6336"
  }
 },
 "nbformat": 4,
 "nbformat_minor": 1
}